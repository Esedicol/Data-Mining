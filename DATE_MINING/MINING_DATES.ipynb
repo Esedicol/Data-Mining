{
 "cells": [
  {
   "cell_type": "markdown",
   "metadata": {
    "Collapsed": "false"
   },
   "source": [
    "# Date Mining Assignment"
   ]
  },
  {
   "cell_type": "code",
   "execution_count": null,
   "metadata": {
    "Collapsed": "false"
   },
   "outputs": [],
   "source": [
    "import numpy as np\n",
    "import pandas as pd\n",
    "from IPython.display import display, Markdown, Latex\n",
    "pd.set_option('max_colwidth', 1000)\n",
    "\n",
    "import re, os\n",
    "for d in [\"src\",\"data\"]: os.makedirs(d, exist_ok=True)"
   ]
  },
  {
   "cell_type": "markdown",
   "metadata": {
    "Collapsed": "false"
   },
   "source": [
    "## Load Dataset"
   ]
  },
  {
   "cell_type": "code",
   "execution_count": null,
   "metadata": {
    "Collapsed": "false"
   },
   "outputs": [],
   "source": [
    "URL = \"https://kmurphy.bitbucket.io/modules/Data_Mining_2/topics/08-Text_Mining/20-Mining_Dates/files/\"\n",
    "\n",
    "for filename, dest in [(\"public.csv\", \"src\")]:\n",
    "    \n",
    "    source = f\"{URL}/{filename}\"\n",
    "    target = f\"{dest}/{filename}\"\n",
    "\n",
    "    if not os.path.isfile(target):\n",
    "        print (f\"Downloading remote file {filename} to folder {dest}\", sep=\"\")\n",
    "        import urllib.request\n",
    "        urllib.request.urlretrieve(source, target)\n",
    "    else:\n",
    "        print(f\"Using local copy of {filename} in folder {dest}\")"
   ]
  },
  {
   "cell_type": "code",
   "execution_count": null,
   "metadata": {
    "Collapsed": "false"
   },
   "outputs": [],
   "source": [
    "df = pd.read_csv(\"src/public.csv\")\n",
    "df.head()"
   ]
  },
  {
   "cell_type": "markdown",
   "metadata": {
    "Collapsed": "false"
   },
   "source": [
    "## Outline of Solution Pipeline\n",
    "\n",
    " * First perform a cleaning step. This greatly reduces the number of regular expressions needed.\n",
    "     - you to figure out specifics here\n",
    "   \n",
    " * Define two helper functions to simply application of regular expression and to display which parts of dataset are matched / not matched.\n",
    " * Build a sequence of regular expressions (starting from most restrictive to avoid false positives) to apply to dataset.\n",
    " * At each match/iteration use examples of unmatched rows to determine next possible regular expression.\n",
    "\n",
    "---"
   ]
  },
  {
   "cell_type": "markdown",
   "metadata": {
    "Collapsed": "false"
   },
   "source": [
    "## Cleaning Step\n",
    "\n",
    "As a result of this step, the dataframe will have columns\n",
    "\n",
    " * __Code__ unchanged\n",
    " * __Raw__ unchanged\n",
    " * __Data__ cleaned version of __Raw__\n",
    " * __Iter__ number of regex that matched this row (for development purposes)\n",
    " * __Match__ regex object result for this row (for development purposes, you might not use)\n",
    " * __Day__ day (or zero if not set)\n",
    " * __Month__ month (or zero if not set)\n",
    " * __Year__ year (or zero if not set)"
   ]
  },
  {
   "cell_type": "code",
   "execution_count": null,
   "metadata": {
    "Collapsed": "false"
   },
   "outputs": [],
   "source": [
    "def clean_message(src):\n",
    "    \n",
    "    # you TODO\n",
    "    s = src\n",
    "    \n",
    "    return s\n",
    "\n",
    "df['Data'] = df.Raw.map(clean_message)\n",
    "df[\"Iter\"] = 0        \n",
    "df[\"Match\"] = 0     \n",
    "df[\"Day\"] = 0\n",
    "df[\"Month\"] = 0\n",
    "df[\"Year\"] = 0"
   ]
  },
  {
   "cell_type": "markdown",
   "metadata": {
    "Collapsed": "false"
   },
   "source": [
    "## Helper Functions"
   ]
  },
  {
   "cell_type": "code",
   "execution_count": null,
   "metadata": {
    "Collapsed": "false"
   },
   "outputs": [],
   "source": [
    "def info(n=None, unmatched=True, head=5):\n",
    "    \"Helper function to display results of a match and some rows not matched so far.\"\n",
    "    \n",
    "    n = df.Match.max() if n is None else n\n",
    "    for nn in ([n,0] if n!=0 and unmatched else [n]):\n",
    "        display(Markdown(\"**Numer of rows with iter=%s: %s**\" % (nn,len(df[df.Iter==nn]))))\n",
    "        display(df.loc[df.Iter==nn,[\"Code\",\"Data\",\"Iter\",\"Match\", \"Day\",\"Month\",\"Year\"]].head(head))\n",
    "info()"
   ]
  },
  {
   "cell_type": "code",
   "execution_count": null,
   "metadata": {
    "Collapsed": "false"
   },
   "outputs": [],
   "source": [
    "def verify_dates(df):\n",
    "    # you TODO (or skip if you don't need it)\n",
    "    return df"
   ]
  },
  {
   "cell_type": "markdown",
   "metadata": {
    "Collapsed": "false"
   },
   "source": [
    "----\n",
    "## Sequence of Regex's \n",
    "\n",
    "Feel free to change what I am doing here. The structure is simple, but adaptable:\n",
    " * Construct the regex\n",
    "     * Pick a row and develop/test against it\n",
    " * Apply regex \n",
    "     * Set counter __iter__\n",
    "     * apply to unmatched rows in __df__ to create a second dataframe, __df2__, with columns __Day__,__Month__,__Year__\n",
    "     * Drop unmatch rows --- identified by NaN.\n",
    " * Test matched rows (I'm not giving you this, and you might not need it anyway, depending on your regex)\n",
    "     * It is possible that the regex matched something that was not a valid date -- you want to remove these rows from __df2__. \n",
    " * Update matched rows in __df__.\n",
    "     * Save appropriate entry in __Day__, __Month__, __Year__, and __iter__.\n",
    "     \n",
    "---\n",
    "---"
   ]
  },
  {
   "cell_type": "markdown",
   "metadata": {
    "Collapsed": "false"
   },
   "source": [
    "### 1 - mm/dd/yyyy "
   ]
  },
  {
   "cell_type": "code",
   "execution_count": null,
   "metadata": {
    "Collapsed": "false"
   },
   "outputs": [],
   "source": [
    "# Construct the regex\n",
    "tmp = df.loc[df.Code==10430271,\"Data\"]\n",
    "display(tmp)\n",
    "\n",
    "regex = r\"([\\d]{1,2})/([\\d]{1,2})/(\\d{2,4})\"\n",
    "#tmp.str.extract(regex)"
   ]
  },
  {
   "cell_type": "code",
   "execution_count": null,
   "metadata": {
    "Collapsed": "false"
   },
   "outputs": [],
   "source": [
    "# apply regex\n",
    "\n",
    "iter = 1\n",
    "\n",
    "df2 = df[df.Iter==0].Data.str.extract(regex)\n",
    "df2.dropna(inplace=True)\n",
    "display(Markdown(\" * Number of row matched = %s\" % df2.shape[0]))\n",
    "display(df2.head())"
   ]
  },
  {
   "cell_type": "code",
   "execution_count": null,
   "metadata": {
    "Collapsed": "false"
   },
   "outputs": [],
   "source": [
    "# test result\n",
    "df2 = verify_dates(df2)"
   ]
  },
  {
   "cell_type": "code",
   "execution_count": null,
   "metadata": {
    "Collapsed": "false"
   },
   "outputs": [],
   "source": [
    "# save result\n",
    "\n",
    "df.loc[(df.Iter==0) & (df2.Year), \"Day\"] = df2[\"Day\"]\n",
    "df.loc[(df.Iter==0) & (df2.Year), \"Month\"] = df2[\"Month\"]\n",
    "df.loc[(df.Iter==0) & (df2.Year), \"Year\"] = df2[\"Year\"]\n",
    "\n",
    "df.loc[(df.Iter==0) & (df2.Year),\"Iter\"] = iter\n",
    "info(iter)"
   ]
  },
  {
   "cell_type": "code",
   "execution_count": null,
   "metadata": {
    "Collapsed": "false"
   },
   "outputs": [],
   "source": []
  }
 ],
 "metadata": {
  "kernelspec": {
   "display_name": "Python 3",
   "language": "python",
   "name": "python3"
  },
  "language_info": {
   "codemirror_mode": {
    "name": "ipython",
    "version": 3
   },
   "file_extension": ".py",
   "mimetype": "text/x-python",
   "name": "python",
   "nbconvert_exporter": "python",
   "pygments_lexer": "ipython3",
   "version": "3.6.7"
  }
 },
 "nbformat": 4,
 "nbformat_minor": 4
}
