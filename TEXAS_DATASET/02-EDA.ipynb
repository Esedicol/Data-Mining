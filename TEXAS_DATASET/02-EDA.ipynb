{
 "cells": [
  {
   "cell_type": "code",
   "execution_count": 52,
   "metadata": {},
   "outputs": [],
   "source": [
    "import pandas as pd\n",
    "import numpy as np\n",
    "import matplotlib.pyplot as plt\n",
    "import scipy.stats as stats\n",
    "\n",
    "import glob, os\n",
    "import my_lib as mylib\n",
    "import pprint\n",
    "pp = pprint.PrettyPrinter(indent=4)\n",
    "\n",
    "#Basic Models\n",
    "from sklearn.linear_model import LogisticRegression\n",
    "from sklearn.svm import SVC\n",
    "from sklearn.metrics import classification_report,accuracy_score\n",
    "from sklearn.neighbors import KNeighborsClassifier\n",
    "from sklearn.tree import DecisionTreeClassifier\n",
    "from sklearn.ensemble import RandomForestClassifier\n",
    "from sklearn.model_selection import train_test_split\n",
    "from sklearn.model_selection import cross_val_score\n",
    "from sklearn.preprocessing import LabelBinarizer\n",
    "\n",
    "import seaborn as sns\n",
    "sns.set_style(\"darkgrid\")\n",
    "\n",
    "from IPython.display import display, Markdown\n",
    "pd.set_option('display.max_columns', None)  \n",
    "\n",
    "SEED = 42\n",
    "target = \"TARGET\""
   ]
  },
  {
   "cell_type": "code",
   "execution_count": 53,
   "metadata": {},
   "outputs": [
    {
     "name": "stdout",
     "output_type": "stream",
     "text": [
      "The autoreload extension is already loaded. To reload it, use:\n",
      "  %reload_ext autoreload\n"
     ]
    }
   ],
   "source": [
    "%matplotlib inline\n",
    "%load_ext autoreload\n",
    "%autoreload 2"
   ]
  },
  {
   "cell_type": "code",
   "execution_count": 55,
   "metadata": {},
   "outputs": [
    {
     "data": {
      "text/html": [
       "<div>\n",
       "<style scoped>\n",
       "    .dataframe tbody tr th:only-of-type {\n",
       "        vertical-align: middle;\n",
       "    }\n",
       "\n",
       "    .dataframe tbody tr th {\n",
       "        vertical-align: top;\n",
       "    }\n",
       "\n",
       "    .dataframe thead th {\n",
       "        text-align: right;\n",
       "    }\n",
       "</style>\n",
       "<table border=\"1\" class=\"dataframe\">\n",
       "  <thead>\n",
       "    <tr style=\"text-align: right;\">\n",
       "      <th></th>\n",
       "      <th>RECORD_ID</th>\n",
       "      <th>DISCHARGE</th>\n",
       "      <th>THCIC_ID</th>\n",
       "      <th>PROVIDER_NAME</th>\n",
       "      <th>TYPE_OF_ADMISSION</th>\n",
       "      <th>SOURCE_OF_ADMISSION</th>\n",
       "      <th>PAT_STATE</th>\n",
       "      <th>PAT_COUNTRY</th>\n",
       "      <th>COUNTY</th>\n",
       "      <th>PUBLIC_HEALTH_REGION</th>\n",
       "      <th>PAT_STATUS</th>\n",
       "      <th>RACE</th>\n",
       "      <th>ETHNICITY</th>\n",
       "      <th>ADMIT_WEEKDAY</th>\n",
       "      <th>LENGTH_OF_STAY</th>\n",
       "      <th>PAT_AGE</th>\n",
       "      <th>FIRST_PAYMENT_SRC</th>\n",
       "      <th>TYPE_OF_BILL</th>\n",
       "      <th>TOTAL_CHARGES</th>\n",
       "      <th>TOTAL_NON_COV_CHARGES</th>\n",
       "      <th>TOTAL_CHARGES_ACCOMM</th>\n",
       "      <th>TOTAL_NON_COV_CHARGES_ACCOMM</th>\n",
       "      <th>TOTAL_CHARGES_ANCIL</th>\n",
       "      <th>TOTAL_NON_COV_CHARGES_ANCIL</th>\n",
       "      <th>POA_PROVIDER_INDICATOR</th>\n",
       "      <th>ADMITTING_DIAGNOSIS</th>\n",
       "      <th>PRINC_DIAG_CODE</th>\n",
       "      <th>OTH_DIAG_CODE_1</th>\n",
       "      <th>MS_MDC</th>\n",
       "      <th>MS_DRG</th>\n",
       "      <th>MS_GROUPER_VERSION_NBR</th>\n",
       "      <th>MS_GROUPER_ERROR_CODE</th>\n",
       "      <th>APR_MDC</th>\n",
       "      <th>APR_DRG</th>\n",
       "      <th>RISK_MORTALITY</th>\n",
       "      <th>ILLNESS_SEVERITY</th>\n",
       "      <th>APR_GROUPER_VERSION_NBR</th>\n",
       "      <th>APR_GROUPER_ERROR_CODE</th>\n",
       "      <th>ATTENDING_PHYSICIAN_UNIF_ID</th>\n",
       "      <th>ENCOUNTER_INDICATOR</th>\n",
       "      <th>CERT_STATUS</th>\n",
       "      <th>TARGET</th>\n",
       "    </tr>\n",
       "  </thead>\n",
       "  <tbody>\n",
       "    <tr>\n",
       "      <th>0</th>\n",
       "      <td>320136748870</td>\n",
       "      <td>2013Q3</td>\n",
       "      <td>838400</td>\n",
       "      <td>Memorial Hermann Rehab Hospital Katy</td>\n",
       "      <td>3</td>\n",
       "      <td>4</td>\n",
       "      <td>TX</td>\n",
       "      <td>US</td>\n",
       "      <td>201</td>\n",
       "      <td>06</td>\n",
       "      <td>07</td>\n",
       "      <td>4</td>\n",
       "      <td>2</td>\n",
       "      <td>2</td>\n",
       "      <td>1</td>\n",
       "      <td>20</td>\n",
       "      <td>MA</td>\n",
       "      <td>111</td>\n",
       "      <td>1671.00</td>\n",
       "      <td>0.00</td>\n",
       "      <td>1145.00</td>\n",
       "      <td>0.00</td>\n",
       "      <td>526.00</td>\n",
       "      <td>0.00</td>\n",
       "      <td>X</td>\n",
       "      <td>V5789</td>\n",
       "      <td>V5789</td>\n",
       "      <td>1919</td>\n",
       "      <td>23</td>\n",
       "      <td>945</td>\n",
       "      <td>01300</td>\n",
       "      <td>00</td>\n",
       "      <td>23</td>\n",
       "      <td>860</td>\n",
       "      <td>2</td>\n",
       "      <td>3</td>\n",
       "      <td>07300</td>\n",
       "      <td>00</td>\n",
       "      <td>1229763162</td>\n",
       "      <td>01</td>\n",
       "      <td>1</td>\n",
       "      <td>short</td>\n",
       "    </tr>\n",
       "    <tr>\n",
       "      <th>1</th>\n",
       "      <td>120130546450</td>\n",
       "      <td>2013Q1</td>\n",
       "      <td>409000</td>\n",
       "      <td>John Peter Smith Hospital</td>\n",
       "      <td>1</td>\n",
       "      <td>1</td>\n",
       "      <td>TX</td>\n",
       "      <td>US</td>\n",
       "      <td>367</td>\n",
       "      <td>03</td>\n",
       "      <td>01</td>\n",
       "      <td>5</td>\n",
       "      <td>1</td>\n",
       "      <td>2</td>\n",
       "      <td>2</td>\n",
       "      <td>13</td>\n",
       "      <td>MA</td>\n",
       "      <td>111</td>\n",
       "      <td>53064.01</td>\n",
       "      <td>0.00</td>\n",
       "      <td>4092.00</td>\n",
       "      <td>0.00</td>\n",
       "      <td>48972.01</td>\n",
       "      <td>0.00</td>\n",
       "      <td>M</td>\n",
       "      <td>78650</td>\n",
       "      <td>41401</td>\n",
       "      <td>42822</td>\n",
       "      <td>05</td>\n",
       "      <td>247</td>\n",
       "      <td>01300</td>\n",
       "      <td>00</td>\n",
       "      <td>05</td>\n",
       "      <td>175</td>\n",
       "      <td>2</td>\n",
       "      <td>2</td>\n",
       "      <td>07300</td>\n",
       "      <td>00</td>\n",
       "      <td>1578252829</td>\n",
       "      <td>01</td>\n",
       "      <td>2</td>\n",
       "      <td>short</td>\n",
       "    </tr>\n",
       "  </tbody>\n",
       "</table>\n",
       "</div>"
      ],
      "text/plain": [
       "      RECORD_ID DISCHARGE THCIC_ID                         PROVIDER_NAME  \\\n",
       "0  320136748870    2013Q3   838400  Memorial Hermann Rehab Hospital Katy   \n",
       "1  120130546450    2013Q1   409000             John Peter Smith Hospital   \n",
       "\n",
       "  TYPE_OF_ADMISSION SOURCE_OF_ADMISSION PAT_STATE PAT_COUNTRY COUNTY  \\\n",
       "0                 3                   4        TX          US    201   \n",
       "1                 1                   1        TX          US    367   \n",
       "\n",
       "  PUBLIC_HEALTH_REGION PAT_STATUS RACE ETHNICITY ADMIT_WEEKDAY LENGTH_OF_STAY  \\\n",
       "0                   06         07    4         2             2              1   \n",
       "1                   03         01    5         1             2              2   \n",
       "\n",
       "  PAT_AGE FIRST_PAYMENT_SRC TYPE_OF_BILL TOTAL_CHARGES TOTAL_NON_COV_CHARGES  \\\n",
       "0      20                MA          111       1671.00                  0.00   \n",
       "1      13                MA          111      53064.01                  0.00   \n",
       "\n",
       "  TOTAL_CHARGES_ACCOMM TOTAL_NON_COV_CHARGES_ACCOMM TOTAL_CHARGES_ANCIL  \\\n",
       "0              1145.00                         0.00              526.00   \n",
       "1              4092.00                         0.00            48972.01   \n",
       "\n",
       "  TOTAL_NON_COV_CHARGES_ANCIL POA_PROVIDER_INDICATOR ADMITTING_DIAGNOSIS  \\\n",
       "0                        0.00                      X               V5789   \n",
       "1                        0.00                      M               78650   \n",
       "\n",
       "  PRINC_DIAG_CODE OTH_DIAG_CODE_1 MS_MDC MS_DRG MS_GROUPER_VERSION_NBR  \\\n",
       "0           V5789            1919     23    945                  01300   \n",
       "1           41401           42822     05    247                  01300   \n",
       "\n",
       "  MS_GROUPER_ERROR_CODE APR_MDC APR_DRG RISK_MORTALITY ILLNESS_SEVERITY  \\\n",
       "0                    00      23     860              2                3   \n",
       "1                    00      05     175              2                2   \n",
       "\n",
       "  APR_GROUPER_VERSION_NBR APR_GROUPER_ERROR_CODE ATTENDING_PHYSICIAN_UNIF_ID  \\\n",
       "0                   07300                     00                  1229763162   \n",
       "1                   07300                     00                  1578252829   \n",
       "\n",
       "  ENCOUNTER_INDICATOR CERT_STATUS TARGET  \n",
       "0                  01           1  short  \n",
       "1                  01           2  short  "
      ]
     },
     "metadata": {},
     "output_type": "display_data"
    },
    {
     "data": {
      "text/plain": [
       "(49984, 42)"
      ]
     },
     "metadata": {},
     "output_type": "display_data"
    }
   ],
   "source": [
    "df = pd.read_csv(f\"data/df_train_sample_00_of_20.csv\", dtype=str)\n",
    "display(df.head(2))\n",
    "display(df.shape)"
   ]
  },
  {
   "cell_type": "code",
   "execution_count": 7,
   "metadata": {},
   "outputs": [
    {
     "name": "stdout",
     "output_type": "stream",
     "text": [
      "\n",
      "\n"
     ]
    },
    {
     "data": {
      "text/markdown": [
       "#### TYPE_OF_ADMISSION"
      ],
      "text/plain": [
       "<IPython.core.display.Markdown object>"
      ]
     },
     "metadata": {},
     "output_type": "display_data"
    },
    {
     "data": {
      "text/markdown": [
       "**Distribution**"
      ],
      "text/plain": [
       "<IPython.core.display.Markdown object>"
      ]
     },
     "metadata": {},
     "output_type": "display_data"
    },
    {
     "data": {
      "text/plain": [
       "1    21625\n",
       "3    12951\n",
       "2     8564\n",
       "4     6409\n",
       "5      233\n",
       "9      201\n",
       "`        1\n",
       "Name: TYPE_OF_ADMISSION, dtype: int64"
      ]
     },
     "metadata": {},
     "output_type": "display_data"
    },
    {
     "name": "stdout",
     "output_type": "stream",
     "text": [
      "\n",
      "\n"
     ]
    },
    {
     "data": {
      "text/markdown": [
       "**Count Plots**"
      ],
      "text/plain": [
       "<IPython.core.display.Markdown object>"
      ]
     },
     "metadata": {},
     "output_type": "display_data"
    },
    {
     "data": {
      "image/png": "[encoded data removed]",
      "text/plain": [
       "<Figure size 648x288 with 2 Axes>"
      ]
     },
     "metadata": {
      "needs_background": "light"
     },
     "output_type": "display_data"
    },
    {
     "data": {
      "text/markdown": [
       "**Chi-Sq Goodness of Fit**"
      ],
      "text/plain": [
       "<IPython.core.display.Markdown object>"
      ]
     },
     "metadata": {},
     "output_type": "display_data"
    },
    {
     "name": "stdout",
     "output_type": "stream",
     "text": [
      "Chi-Square statistic 3.3733e+03 (p=0.0000e+00, dof=12)\n"
     ]
    }
   ],
   "source": [
    "f = \"TYPE_OF_ADMISSION\"\n",
    "mylib.eda_categorical(df, f, target, max_categories=20, labels=None, header=True, brief=False)"
   ]
  },
  {
   "cell_type": "markdown",
   "metadata": {},
   "source": [
    "### Convert Tager Categrories into codes or numbers"
   ]
  },
  {
   "cell_type": "code",
   "execution_count": 8,
   "metadata": {},
   "outputs": [
    {
     "name": "stdout",
     "output_type": "stream",
     "text": [
      "Encoding Taget....\n",
      "DONE\n"
     ]
    }
   ],
   "source": [
    "from sklearn.preprocessing import LabelEncoder\n",
    "\n",
    "if df.TARGET.dtype != int:\n",
    "    print(\"Encoding Taget....\")\n",
    "    le = LabelEncoder()\n",
    "    df[\"TARGET\"] = le.fit_transform(df.TARGET)\n",
    "    print(\"DONE\")\n",
    "else:\n",
    "    pass"
   ]
  },
  {
   "cell_type": "markdown",
   "metadata": {},
   "source": [
    "## Test-Train-Split"
   ]
  },
  {
   "cell_type": "code",
   "execution_count": 12,
   "metadata": {},
   "outputs": [],
   "source": [
    "x = df.drop(target, axis=1)\n",
    "y = df.TARGET\n",
    "\n",
    "df_x_train, df_x_test, df_y_train, df_y_test = train_test_split(x,y, test_size = 0.4, stratify = y, random_state = SEED)"
   ]
  },
  {
   "cell_type": "markdown",
   "metadata": {},
   "source": [
    "## Encoding of Categorical Features"
   ]
  },
  {
   "cell_type": "code",
   "execution_count": 13,
   "metadata": {},
   "outputs": [],
   "source": [
    "features = [\"TYPE_OF_ADMISSION\"]#,\"PAT_STATE\", \"SEX_CODE\", \"RACE\", \"ETHNICITY\", \"ADMIT_WEEKDAY\"]\n",
    "\n",
    "dfx_train_model = df_x_train.loc[:,[]]\n",
    "dfx_test_model = df_x_test.loc[:,[]]\n",
    "\n",
    "for feature in features:\n",
    "    lb = LabelBinarizer()\n",
    "    \n",
    "    lb_result = lb.fit_transform(df_x_train[feature].astype(\"str\"))\n",
    "    names = [f'{feature}_{l}' for l in lb.classes_]\n",
    "    for k, name in enumerate(names):\n",
    "        dfx_train_model[name] = lb_result[:,k]\n",
    "    \n",
    "    lb_result = lb.transform(df_x_test[feature].astype(\"str\"))\n",
    "    names = [f'{feature}_{l}' for l in lb.classes_]\n",
    "    for k, name in enumerate(names):\n",
    "        dfx_test_model[name] = lb_result[:,k]"
   ]
  },
  {
   "cell_type": "code",
   "execution_count": 14,
   "metadata": {},
   "outputs": [
    {
     "name": "stdout",
     "output_type": "stream",
     "text": [
      "[   (0, 'TYPE_OF_ADMISSION_1'),\n",
      "    (1, 'TYPE_OF_ADMISSION_2'),\n",
      "    (2, 'TYPE_OF_ADMISSION_3'),\n",
      "    (3, 'TYPE_OF_ADMISSION_4'),\n",
      "    (4, 'TYPE_OF_ADMISSION_5'),\n",
      "    (5, 'TYPE_OF_ADMISSION_9')]\n",
      "None\n"
     ]
    }
   ],
   "source": [
    "print(pp.pprint(list(enumerate(names))))"
   ]
  },
  {
   "cell_type": "code",
   "execution_count": 15,
   "metadata": {},
   "outputs": [
    {
     "name": "stdout",
     "output_type": "stream",
     "text": [
      "[   'TYPE_OF_ADMISSION_1',\n",
      "    'TYPE_OF_ADMISSION_2',\n",
      "    'TYPE_OF_ADMISSION_3',\n",
      "    'TYPE_OF_ADMISSION_4',\n",
      "    'TYPE_OF_ADMISSION_5',\n",
      "    'TYPE_OF_ADMISSION_9']\n"
     ]
    }
   ],
   "source": [
    "pp.pprint(names)"
   ]
  },
  {
   "cell_type": "code",
   "execution_count": 16,
   "metadata": {},
   "outputs": [
    {
     "data": {
      "text/plain": [
       "array(['1', '2', '3', '4', '5', '9'], dtype='<U1')"
      ]
     },
     "execution_count": 16,
     "metadata": {},
     "output_type": "execute_result"
    }
   ],
   "source": [
    "lb.classes_"
   ]
  },
  {
   "cell_type": "code",
   "execution_count": 17,
   "metadata": {},
   "outputs": [
    {
     "data": {
      "text/html": [
       "<div>\n",
       "<style scoped>\n",
       "    .dataframe tbody tr th:only-of-type {\n",
       "        vertical-align: middle;\n",
       "    }\n",
       "\n",
       "    .dataframe tbody tr th {\n",
       "        vertical-align: top;\n",
       "    }\n",
       "\n",
       "    .dataframe thead th {\n",
       "        text-align: right;\n",
       "    }\n",
       "</style>\n",
       "<table border=\"1\" class=\"dataframe\">\n",
       "  <thead>\n",
       "    <tr style=\"text-align: right;\">\n",
       "      <th></th>\n",
       "      <th>TYPE_OF_ADMISSION_1</th>\n",
       "      <th>TYPE_OF_ADMISSION_2</th>\n",
       "      <th>TYPE_OF_ADMISSION_3</th>\n",
       "      <th>TYPE_OF_ADMISSION_4</th>\n",
       "      <th>TYPE_OF_ADMISSION_5</th>\n",
       "      <th>TYPE_OF_ADMISSION_9</th>\n",
       "    </tr>\n",
       "  </thead>\n",
       "  <tbody>\n",
       "    <tr>\n",
       "      <th>44930</th>\n",
       "      <td>0</td>\n",
       "      <td>0</td>\n",
       "      <td>1</td>\n",
       "      <td>0</td>\n",
       "      <td>0</td>\n",
       "      <td>0</td>\n",
       "    </tr>\n",
       "    <tr>\n",
       "      <th>14686</th>\n",
       "      <td>0</td>\n",
       "      <td>0</td>\n",
       "      <td>0</td>\n",
       "      <td>1</td>\n",
       "      <td>0</td>\n",
       "      <td>0</td>\n",
       "    </tr>\n",
       "    <tr>\n",
       "      <th>44674</th>\n",
       "      <td>0</td>\n",
       "      <td>0</td>\n",
       "      <td>1</td>\n",
       "      <td>0</td>\n",
       "      <td>0</td>\n",
       "      <td>0</td>\n",
       "    </tr>\n",
       "    <tr>\n",
       "      <th>504</th>\n",
       "      <td>0</td>\n",
       "      <td>0</td>\n",
       "      <td>1</td>\n",
       "      <td>0</td>\n",
       "      <td>0</td>\n",
       "      <td>0</td>\n",
       "    </tr>\n",
       "    <tr>\n",
       "      <th>7052</th>\n",
       "      <td>1</td>\n",
       "      <td>0</td>\n",
       "      <td>0</td>\n",
       "      <td>0</td>\n",
       "      <td>0</td>\n",
       "      <td>0</td>\n",
       "    </tr>\n",
       "  </tbody>\n",
       "</table>\n",
       "</div>"
      ],
      "text/plain": [
       "       TYPE_OF_ADMISSION_1  TYPE_OF_ADMISSION_2  TYPE_OF_ADMISSION_3  \\\n",
       "44930                    0                    0                    1   \n",
       "14686                    0                    0                    0   \n",
       "44674                    0                    0                    1   \n",
       "504                      0                    0                    1   \n",
       "7052                     1                    0                    0   \n",
       "\n",
       "       TYPE_OF_ADMISSION_4  TYPE_OF_ADMISSION_5  TYPE_OF_ADMISSION_9  \n",
       "44930                    0                    0                    0  \n",
       "14686                    1                    0                    0  \n",
       "44674                    0                    0                    0  \n",
       "504                      0                    0                    0  \n",
       "7052                     0                    0                    0  "
      ]
     },
     "execution_count": 17,
     "metadata": {},
     "output_type": "execute_result"
    }
   ],
   "source": [
    "dfx_train_model.head()"
   ]
  },
  {
   "cell_type": "code",
   "execution_count": 25,
   "metadata": {},
   "outputs": [],
   "source": [
    "x_train, y_train = dfx_train_model.values, df_y_train.values\n",
    "x_test, y_test = dfx_test_model.values, df_y_test.values"
   ]
  },
  {
   "cell_type": "code",
   "execution_count": 27,
   "metadata": {},
   "outputs": [],
   "source": [
    "# Using a few classifiers with the dataset\n",
    "classifiers = {\n",
    "    \"LogisiticRegression\":LogisticRegression(),\n",
    "    \"KNearest\":KNeighborsClassifier(),\n",
    "    \"SupportVectorClassifier\":SVC(),\n",
    "    \"Decision Tree Classifier\":DecisionTreeClassifier()\n",
    "}"
   ]
  }
 ],
 "metadata": {
  "kernelspec": {
   "display_name": "Python 3",
   "language": "python",
   "name": "python3"
  },
  "language_info": {
   "codemirror_mode": {
    "name": "ipython",
    "version": 3
   },
   "file_extension": ".py",
   "mimetype": "text/x-python",
   "name": "python",
   "nbconvert_exporter": "python",
   "pygments_lexer": "ipython3",
   "version": "3.7.7"
  }
 },
 "nbformat": 4,
 "nbformat_minor": 4
}
