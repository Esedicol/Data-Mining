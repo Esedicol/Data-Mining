{
 "cells": [
  {
   "cell_type": "code",
   "execution_count": 1,
   "metadata": {},
   "outputs": [],
   "source": [
    "import pandas as pd\n",
    "import numpy as np\n",
    "import matplotlib.pyplot as plt\n",
    "import scipy.stats as stats\n",
    "import my_lib\n",
    "\n",
    "import json\n",
    "import glob, os\n",
    "import my_lib as ml\n",
    "\n",
    "import seaborn as sns\n",
    "sns.set_style(\"darkgrid\")\n",
    "\n",
    "from IPython.display import display, Markdown\n",
    "pd.set_option('display.max_columns', None)  \n",
    "\n",
    "SEED = 42\n",
    "target = \"TARGET\"\n",
    "feature_labels = {}"
   ]
  },
  {
   "cell_type": "code",
   "execution_count": 2,
   "metadata": {},
   "outputs": [],
   "source": [
    "%matplotlib inline\n",
    "%load_ext autoreload\n",
    "%autoreload 2"
   ]
  },
  {
   "cell_type": "code",
   "execution_count": 3,
   "metadata": {},
   "outputs": [
    {
     "data": {
      "text/html": [
       "<div>\n",
       "<style scoped>\n",
       "    .dataframe tbody tr th:only-of-type {\n",
       "        vertical-align: middle;\n",
       "    }\n",
       "\n",
       "    .dataframe tbody tr th {\n",
       "        vertical-align: top;\n",
       "    }\n",
       "\n",
       "    .dataframe thead th {\n",
       "        text-align: right;\n",
       "    }\n",
       "</style>\n",
       "<table border=\"1\" class=\"dataframe\">\n",
       "  <thead>\n",
       "    <tr style=\"text-align: right;\">\n",
       "      <th></th>\n",
       "      <th>RECORD_ID</th>\n",
       "      <th>DISCHARGE</th>\n",
       "      <th>THCIC_ID</th>\n",
       "      <th>PROVIDER_NAME</th>\n",
       "      <th>TYPE_OF_ADMISSION</th>\n",
       "      <th>SOURCE_OF_ADMISSION</th>\n",
       "      <th>PAT_STATE</th>\n",
       "      <th>PAT_COUNTRY</th>\n",
       "      <th>COUNTY</th>\n",
       "      <th>PUBLIC_HEALTH_REGION</th>\n",
       "      <th>PAT_STATUS</th>\n",
       "      <th>SEX_CODE</th>\n",
       "      <th>RACE</th>\n",
       "      <th>ETHNICITY</th>\n",
       "      <th>ADMIT_WEEKDAY</th>\n",
       "      <th>LENGTH_OF_STAY</th>\n",
       "      <th>PAT_AGE</th>\n",
       "      <th>FIRST_PAYMENT_SRC</th>\n",
       "      <th>TYPE_OF_BILL</th>\n",
       "      <th>TOTAL_CHARGES</th>\n",
       "      <th>TOTAL_NON_COV_CHARGES</th>\n",
       "      <th>TOTAL_CHARGES_ACCOMM</th>\n",
       "      <th>TOTAL_NON_COV_CHARGES_ACCOMM</th>\n",
       "      <th>TOTAL_CHARGES_ANCIL</th>\n",
       "      <th>TOTAL_NON_COV_CHARGES_ANCIL</th>\n",
       "      <th>POA_PROVIDER_INDICATOR</th>\n",
       "      <th>ADMITTING_DIAGNOSIS</th>\n",
       "      <th>PRINC_DIAG_CODE</th>\n",
       "      <th>OTH_DIAG_CODE_1</th>\n",
       "      <th>MS_MDC</th>\n",
       "      <th>MS_DRG</th>\n",
       "      <th>MS_GROUPER_VERSION_NBR</th>\n",
       "      <th>MS_GROUPER_ERROR_CODE</th>\n",
       "      <th>APR_MDC</th>\n",
       "      <th>APR_DRG</th>\n",
       "      <th>RISK_MORTALITY</th>\n",
       "      <th>ILLNESS_SEVERITY</th>\n",
       "      <th>APR_GROUPER_VERSION_NBR</th>\n",
       "      <th>APR_GROUPER_ERROR_CODE</th>\n",
       "      <th>ATTENDING_PHYSICIAN_UNIF_ID</th>\n",
       "      <th>ENCOUNTER_INDICATOR</th>\n",
       "      <th>CERT_STATUS</th>\n",
       "      <th>TARGET</th>\n",
       "    </tr>\n",
       "  </thead>\n",
       "  <tbody>\n",
       "    <tr>\n",
       "      <th>0</th>\n",
       "      <td>320136748870</td>\n",
       "      <td>2013Q3</td>\n",
       "      <td>838400</td>\n",
       "      <td>Memorial Hermann Rehab Hospital Katy</td>\n",
       "      <td>3</td>\n",
       "      <td>4</td>\n",
       "      <td>TX</td>\n",
       "      <td>US</td>\n",
       "      <td>201</td>\n",
       "      <td>06</td>\n",
       "      <td>07</td>\n",
       "      <td>F</td>\n",
       "      <td>4</td>\n",
       "      <td>2</td>\n",
       "      <td>2</td>\n",
       "      <td>1</td>\n",
       "      <td>20</td>\n",
       "      <td>MA</td>\n",
       "      <td>111</td>\n",
       "      <td>1671.00</td>\n",
       "      <td>0.00</td>\n",
       "      <td>1145.00</td>\n",
       "      <td>0.00</td>\n",
       "      <td>526.00</td>\n",
       "      <td>0.00</td>\n",
       "      <td>X</td>\n",
       "      <td>V5789</td>\n",
       "      <td>V5789</td>\n",
       "      <td>1919</td>\n",
       "      <td>23</td>\n",
       "      <td>945</td>\n",
       "      <td>01300</td>\n",
       "      <td>00</td>\n",
       "      <td>23</td>\n",
       "      <td>860</td>\n",
       "      <td>2</td>\n",
       "      <td>3</td>\n",
       "      <td>07300</td>\n",
       "      <td>00</td>\n",
       "      <td>1229763162</td>\n",
       "      <td>01</td>\n",
       "      <td>1</td>\n",
       "      <td>short</td>\n",
       "    </tr>\n",
       "    <tr>\n",
       "      <th>1</th>\n",
       "      <td>120130546450</td>\n",
       "      <td>2013Q1</td>\n",
       "      <td>409000</td>\n",
       "      <td>John Peter Smith Hospital</td>\n",
       "      <td>1</td>\n",
       "      <td>1</td>\n",
       "      <td>TX</td>\n",
       "      <td>US</td>\n",
       "      <td>367</td>\n",
       "      <td>03</td>\n",
       "      <td>01</td>\n",
       "      <td>M</td>\n",
       "      <td>5</td>\n",
       "      <td>1</td>\n",
       "      <td>2</td>\n",
       "      <td>2</td>\n",
       "      <td>13</td>\n",
       "      <td>MA</td>\n",
       "      <td>111</td>\n",
       "      <td>53064.01</td>\n",
       "      <td>0.00</td>\n",
       "      <td>4092.00</td>\n",
       "      <td>0.00</td>\n",
       "      <td>48972.01</td>\n",
       "      <td>0.00</td>\n",
       "      <td>M</td>\n",
       "      <td>78650</td>\n",
       "      <td>41401</td>\n",
       "      <td>42822</td>\n",
       "      <td>05</td>\n",
       "      <td>247</td>\n",
       "      <td>01300</td>\n",
       "      <td>00</td>\n",
       "      <td>05</td>\n",
       "      <td>175</td>\n",
       "      <td>2</td>\n",
       "      <td>2</td>\n",
       "      <td>07300</td>\n",
       "      <td>00</td>\n",
       "      <td>1578252829</td>\n",
       "      <td>01</td>\n",
       "      <td>2</td>\n",
       "      <td>short</td>\n",
       "    </tr>\n",
       "  </tbody>\n",
       "</table>\n",
       "</div>"
      ],
      "text/plain": [
       "      RECORD_ID DISCHARGE THCIC_ID                         PROVIDER_NAME  \\\n",
       "0  320136748870    2013Q3   838400  Memorial Hermann Rehab Hospital Katy   \n",
       "1  120130546450    2013Q1   409000             John Peter Smith Hospital   \n",
       "\n",
       "  TYPE_OF_ADMISSION SOURCE_OF_ADMISSION PAT_STATE PAT_COUNTRY COUNTY  \\\n",
       "0                 3                   4        TX          US    201   \n",
       "1                 1                   1        TX          US    367   \n",
       "\n",
       "  PUBLIC_HEALTH_REGION PAT_STATUS SEX_CODE RACE ETHNICITY ADMIT_WEEKDAY  \\\n",
       "0                   06         07        F    4         2             2   \n",
       "1                   03         01        M    5         1             2   \n",
       "\n",
       "  LENGTH_OF_STAY PAT_AGE FIRST_PAYMENT_SRC TYPE_OF_BILL TOTAL_CHARGES  \\\n",
       "0              1      20                MA          111       1671.00   \n",
       "1              2      13                MA          111      53064.01   \n",
       "\n",
       "  TOTAL_NON_COV_CHARGES TOTAL_CHARGES_ACCOMM TOTAL_NON_COV_CHARGES_ACCOMM  \\\n",
       "0                  0.00              1145.00                         0.00   \n",
       "1                  0.00              4092.00                         0.00   \n",
       "\n",
       "  TOTAL_CHARGES_ANCIL TOTAL_NON_COV_CHARGES_ANCIL POA_PROVIDER_INDICATOR  \\\n",
       "0              526.00                        0.00                      X   \n",
       "1            48972.01                        0.00                      M   \n",
       "\n",
       "  ADMITTING_DIAGNOSIS PRINC_DIAG_CODE OTH_DIAG_CODE_1 MS_MDC MS_DRG  \\\n",
       "0               V5789           V5789            1919     23    945   \n",
       "1               78650           41401           42822     05    247   \n",
       "\n",
       "  MS_GROUPER_VERSION_NBR MS_GROUPER_ERROR_CODE APR_MDC APR_DRG RISK_MORTALITY  \\\n",
       "0                  01300                    00      23     860              2   \n",
       "1                  01300                    00      05     175              2   \n",
       "\n",
       "  ILLNESS_SEVERITY APR_GROUPER_VERSION_NBR APR_GROUPER_ERROR_CODE  \\\n",
       "0                3                   07300                     00   \n",
       "1                2                   07300                     00   \n",
       "\n",
       "  ATTENDING_PHYSICIAN_UNIF_ID ENCOUNTER_INDICATOR CERT_STATUS TARGET  \n",
       "0                  1229763162                  01           1  short  \n",
       "1                  1578252829                  01           2  short  "
      ]
     },
     "metadata": {},
     "output_type": "display_data"
    },
    {
     "data": {
      "text/plain": [
       "(49984, 43)"
      ]
     },
     "metadata": {},
     "output_type": "display_data"
    }
   ],
   "source": [
    "df = pd.read_csv(f\"data/df_train_sample_00_of_20.csv\", dtype=str)\n",
    "df2 = pd.read_csv(f\"data/df_train_sample_00_of_20.csv\", dtype=str)\n",
    "display(df.head(2))\n",
    "display(df.shape)"
   ]
  },
  {
   "cell_type": "markdown",
   "metadata": {},
   "source": [
    "## Convert Target Categrories into codes or numbers"
   ]
  },
  {
   "cell_type": "code",
   "execution_count": 4,
   "metadata": {},
   "outputs": [
    {
     "name": "stdout",
     "output_type": "stream",
     "text": [
      "Encoding Taget....\n",
      "DONE\n"
     ]
    }
   ],
   "source": [
    "from sklearn.preprocessing import LabelEncoder\n",
    "\n",
    "if df.TARGET.dtype != int:\n",
    "    print(\"Encoding Taget....\")\n",
    "    lb = LabelEncoder()\n",
    "    df[\"TARGET\"] = lb.fit_transform(df.TARGET)\n",
    "    print(\"DONE\")\n",
    "else:\n",
    "    print(\"Encoding already performed.\")\n",
    "    pass"
   ]
  },
  {
   "cell_type": "markdown",
   "metadata": {},
   "source": [
    "## Cleaning of Categorical Features"
   ]
  },
  {
   "cell_type": "code",
   "execution_count": 5,
   "metadata": {},
   "outputs": [
    {
     "name": "stdout",
     "output_type": "stream",
     "text": [
      "TYPE_OF_ADMISSION: -> ['3' '1' '2' '4' '5' '9']\n",
      "SOURCE_OF_ADMISSION: -> ['4' '1' '2' '8' '5' '9' '6' 'D']\n",
      "PAT_STATE: -> ['TX' 'XX' 'ZZ']\n",
      "SEX_CODE: -> ['F' 'M' 'U']\n",
      "RACE: -> ['4' '5' '3' '2' '1']\n",
      "ETHNICITY: -> ['2' '1' '3']\n",
      "PAT_AGE: -> ['5' '4' '2' '3' '1']\n",
      "PAT_COUNTRY: -> ['US' 'MX' 'XX']\n",
      "POA_PROVIDER_INDICATOR: -> ['X' 'M' 'R']\n",
      "ILLNESS_SEVERITY: -> ['3' '2' '1' '4']\n",
      "RISK_MORTALITY: -> ['2' '1' '3' '4']\n"
     ]
    }
   ],
   "source": [
    "def  clean_data(df):\t\n",
    "    # TYPES_OF_ADMISSION\n",
    "    feature = \"TYPE_OF_ADMISSION\"\n",
    "    before = df[feature].unique()\n",
    "    df[feature].fillna(\"9\", inplace=True)\n",
    "    df.loc[df[feature].isin([\"`\"]), feature] = \"9\"\n",
    "    print(f'{feature}: -> {df[feature].unique()}')\n",
    "\n",
    "    # SOURCE_OF_ADMISSION\n",
    "    feature = \"SOURCE_OF_ADMISSION\"\n",
    "    before = df[feature].unique()\n",
    "    df[feature].fillna(\"9\", inplace=True)\n",
    "    df.loc[df[feature].isin([\"`\", \"3\", \"NaN\", \"7\"]), feature] = \"9\"\n",
    "    print(f'{feature}: -> {df[feature].unique()}')\n",
    "\n",
    "    # PAT_STATE\n",
    "    feature = \"PAT_STATE\"\n",
    "    before = df[feature].unique()\n",
    "    df[feature].fillna(\"XX\", inplace=True)\n",
    "    df.loc[df[feature].isin([\"FC\",\"`\"]), feature] = \"XX\"\n",
    "    df.loc[df[feature].isin([\"NM\",\"AR\",\"OK\", \"LA\"]), feature] = \"XX\"\n",
    "    print(f'{feature}: -> {df[feature].unique()}')\n",
    "\n",
    "    # SEX_CODE\n",
    "    feature = \"SEX_CODE\"\n",
    "    before = df[feature].unique()\n",
    "    df[feature].fillna(\"U\", inplace=True)\n",
    "    df.loc[df[feature].isin([\"nan\",\"`\"]), feature] = \"U\"\n",
    "    print(f'{feature}: -> {df[feature].unique()}')\n",
    "\n",
    "    # RACE\n",
    "    feature = \"RACE\"\n",
    "    before = df[feature].unique()\n",
    "    df[feature].fillna(\"5\", inplace=True)\n",
    "    df.loc[df[feature].isin([\"nan\", \"`\"]), feature] = \"5\"\n",
    "    print(f'{feature}: -> {df[feature].unique()}')\n",
    "\n",
    "    # ETHNICITY\n",
    "    feature = \"ETHNICITY\"\n",
    "    before = df[feature].unique()\n",
    "    df[feature].fillna(\"3\", inplace=True)\n",
    "    df.loc[df[feature].isin([\"nan\", \"`\"]), feature] = \"3\"\n",
    "    print(f'{feature}: -> {df[feature].unique()}')\n",
    "\n",
    "    # PAT_AGE\n",
    "    feature = \"PAT_AGE\"\n",
    "    before = df[feature].unique()\n",
    "    df.loc[df[feature].isin([\"00\", \"01\", \"02\", \"03\", \"22\"]), feature] = \"1\"\n",
    "    df.loc[df[feature].isin([\"04\", \"05\", \"06\"]), feature] = \"2\"\n",
    "    df.loc[df[feature].isin([\"07\", \"08\", \"09\", \"23\"]), feature] = \"3\"\n",
    "    df.loc[df[feature].isin([\"10\", \"11\", \"12\", \"13\", \"14\", \"15\", \"16\", \"24\" ]), feature] = \"4\"\n",
    "    df.loc[df[feature].isin([\"17\", \"18\", \"19\", \"20\", \"21\", \"25\", \"26\"]), feature] = \"5\"\n",
    "    print(f'{feature}: -> {df[feature].unique()}')\n",
    "\n",
    "    # PAT_COUNTRY\n",
    "    feature = \"PAT_COUNTRY\"\n",
    "    before = df[feature].unique()\n",
    "    df[feature].fillna(\"NA\", inplace=True)\n",
    "    df.loc[~df[feature].isin([\"US\", \"NaN\", \"MX\"]), feature] = \"XX\"\n",
    "    print(f'{feature}: -> {df[feature].unique()}')\n",
    "    \n",
    "    # POA_PROVIDER_INDICATOR\n",
    "    feature = \"POA_PROVIDER_INDICATOR\"\n",
    "    before = df[feature].unique()\n",
    "    df[feature].fillna(\"X\", inplace=True)\n",
    "    df.loc[df[feature].isin([\"nan\", \"`\"]), feature] = \"X\"\n",
    "    print(f'{feature}: -> {df[feature].unique()}')\n",
    "    \n",
    "    # ILLNESS_SEVERITY\n",
    "    feature = \"ILLNESS_SEVERITY\"\n",
    "    before = df[feature].unique()\n",
    "    df[feature].fillna(\"4\", inplace=True)\n",
    "    df.loc[df[feature].isin([\"0\", \"`\"]), feature] = \"4\"\n",
    "    print(f'{feature}: -> {df[feature].unique()}')\n",
    "    \n",
    "    # RISK_MORTALITY\n",
    "    feature = \"RISK_MORTALITY\"\n",
    "    before = df[feature].unique()\n",
    "    df[feature].fillna(\"4\", inplace=True)\n",
    "    df.loc[df[feature].isin([\"0\", \"`\"]), feature] = \"4\"\n",
    "    print(f'{feature}: -> {df[feature].unique()}')\n",
    "    \n",
    "clean_data(df)"
   ]
  },
  {
   "cell_type": "markdown",
   "metadata": {},
   "source": [
    "## Labeling"
   ]
  },
  {
   "cell_type": "code",
   "execution_count": 6,
   "metadata": {},
   "outputs": [],
   "source": [
    "def encode_label(line):\n",
    "    return {line[0]: \"(%s) %s\" % (line[0], line[2:].strip()) for line in line.split(\"\\n\") if len(line) > 0}"
   ]
  },
  {
   "cell_type": "code",
   "execution_count": 7,
   "metadata": {},
   "outputs": [],
   "source": [
    "# TYPES_OF_ADMISSION\n",
    "feature_labels[\"TYPE_OF_ADMISSION\"] = encode_label(\"\"\"\n",
    "1 Emergency\n",
    "2 Urgent\n",
    "3 Elective\n",
    "4 Newborn\n",
    "5 Trauma Center\n",
    "9 Information not available\n",
    "` Invalid\"\"\")\n",
    "\n",
    "# SOURCE_OF_ADMISSION\n",
    "feature_labels[\"SOURCE_OF_ADMISSION\"] = encode_label(\"\"\"\n",
    "1 Non-Healthcare Facility Point of Origin\n",
    "2 Clinic referral\n",
    "4 Transfer from a hospital\n",
    "5 Transfer from a skilled nursing facility\n",
    "6 Transfer from another health care facility\n",
    "8 Court/Law Enforcement\n",
    "9 Information not available\n",
    "0 Transfer from psychiatric hospital\n",
    "B Transfer from another home health agency\n",
    "D Transfer within Hospital\n",
    "E Transfer from Amubulatory Surgery Center\n",
    "F Transfer from a Hospice Facility\n",
    "` Invalid \"\"\")\n",
    "\n",
    "# PAT_STATE\n",
    "codes = df[\"PAT_STATE\"].unique()\n",
    "labels = [\"Texas\", \"Foreign country\", \"All other states and American Territories\"]\n",
    "feature_labels[\"PAT_STATE\"] = {c:\"(%s) %s\" %(c,l) for c,l in zip(codes,labels)}\n",
    "\n",
    "# SEX_CODE\n",
    "feature_labels[\"SEX_CODE\"] = encode_label(\"\"\"\n",
    "M Male\n",
    "F Female\n",
    "U Unknown\n",
    "` Invalid\"\"\")\n",
    "\n",
    "# RACE\n",
    "# codes = df[\"RACE\"].unique()\n",
    "# labels = [\"White\", \"Other\", \"Black\", \"Asian or Pacific Islander\", \"American Indian/Eskimo/Aleut\"]\n",
    "# feature_labels[\"RACE\"] = {c:\"(%s) %s\" %(c,l) for c,l in zip(codes,labels)}\n",
    "feature_labels[\"RACE\"] = encode_label(\"\"\"\n",
    "1 American Indian/Eskimo/Aleut\n",
    "2 Asian or Pacific Islander\n",
    "3 Black\n",
    "4 White\n",
    "5 Other\n",
    "` Invalid\"\"\")\n",
    "\n",
    "# ETHNICITY\n",
    "feature_labels[\"ETHNICITY\"] = encode_label(\"\"\"\n",
    "1 Hispanic Origin\n",
    "2 Not of Hispanic Origin\n",
    "3 Unknown\"\"\")\n",
    "\n",
    "# ADMIT_WEEKDAY\n",
    "feature_labels[\"ADMIT_WEEKDAY\"] = encode_label(\"\"\"\n",
    "1 Monday \n",
    "2 Tuesday \n",
    "3 Wednesday \n",
    "4 Thursday \n",
    "5 Friday\n",
    "6 Saturday\n",
    "7 Sunday\n",
    "` Invalid\"\"\")\n",
    "\n",
    "# PAT_AGE\n",
    "feature_labels[\"PAT_AGE\"] = encode_label(\"\"\"\n",
    "1 Child\n",
    "2 Teen\n",
    "3 Young Adult\n",
    "4 Adult\n",
    "5 Elderly\n",
    "` Invalid\"\"\")\n",
    "\n",
    "# PAT_COUNTRY\n",
    "codes = df[\"PAT_COUNTRY\"].unique()\n",
    "labels = [\"Unites States\", \"Mexico\", \"Other Countries\"]\n",
    "feature_labels[\"PAT_COUNTRY\"] = {c:\"(%s) %s\" %(c,l) for c,l in zip(codes,labels)}\n",
    "\n",
    "# POA_PROVIDER_INDICATOR\n",
    "feature_labels[\"POA_PROVIDER_INDICATOR\"] = encode_label(\"\"\"\n",
    "M Mixed\n",
    "R Required\n",
    "X Exempt\n",
    "` Invalid \n",
    "\"\"\")\n",
    "\n",
    "# ILLNESS_SEVERITY\n",
    "feature_labels[\"ILLNESS_SEVERITY\"] = encode_label(\"\"\"\n",
    "1 Minor\n",
    "2 Moderate\n",
    "3 Major\n",
    "4 Extreme \"\"\")\n",
    "\n",
    "# RISK_MORTALITY\n",
    "feature_labels[\"RISK_MORTALITY\"] = encode_label(\"\"\"\n",
    "1 Minor\n",
    "2 Moderate\n",
    "3 Major\n",
    "4 Extreme \"\"\")"
   ]
  },
  {
   "cell_type": "code",
   "execution_count": 8,
   "metadata": {},
   "outputs": [],
   "source": [
    "# save features into file so it can be loaded when used\n",
    "if not os.path.isfile(\"data.feature_labels.json\"):\n",
    "    json = json.dumps(feature_labels)\n",
    "    f = open(\"data/feature_labels.json\",\"w\")\n",
    "    f.write(json)\n",
    "    f.close()\n",
    "else:\n",
    "    print(\"File already exists\")"
   ]
  },
  {
   "cell_type": "code",
   "execution_count": 10,
   "metadata": {},
   "outputs": [
    {
     "name": "stdout",
     "output_type": "stream",
     "text": [
      "\n",
      "\n"
     ]
    },
    {
     "data": {
      "text/markdown": [
       "#### SOURCE_OF_ADMISSION"
      ],
      "text/plain": [
       "<IPython.core.display.Markdown object>"
      ]
     },
     "metadata": {},
     "output_type": "display_data"
    },
    {
     "data": {
      "text/markdown": [
       "**Distribution**"
      ],
      "text/plain": [
       "<IPython.core.display.Markdown object>"
      ]
     },
     "metadata": {},
     "output_type": "display_data"
    },
    {
     "data": {
      "text/plain": [
       "(1) Non-Healthcare Facility Point of Origin       29906\n",
       "(2) Clinic referral                                8779\n",
       "(5) Transfer from a skilled nursing facility       6636\n",
       "(4) Transfer from a hospital                       3304\n",
       "(6) Transfer from another health care facility      427\n",
       "(8) Court/Law Enforcement                           408\n",
       "(9) Information not available                       274\n",
       "(D) Transfer within Hospital                        250\n",
       "Name: SOURCE_OF_ADMISSION, dtype: int64"
      ]
     },
     "metadata": {},
     "output_type": "display_data"
    },
    {
     "name": "stdout",
     "output_type": "stream",
     "text": [
      "\n",
      "\n"
     ]
    },
    {
     "data": {
      "text/markdown": [
       "**Count Plots**"
      ],
      "text/plain": [
       "<IPython.core.display.Markdown object>"
      ]
     },
     "metadata": {},
     "output_type": "display_data"
    },
    {
     "data": {
      "image/png": "[encoded data removed]",
      "text/plain": [
       "<Figure size 648x288 with 2 Axes>"
      ]
     },
     "metadata": {
      "needs_background": "light"
     },
     "output_type": "display_data"
    },
    {
     "data": {
      "text/html": [
       "<div>\n",
       "<style scoped>\n",
       "    .dataframe tbody tr th:only-of-type {\n",
       "        vertical-align: middle;\n",
       "    }\n",
       "\n",
       "    .dataframe tbody tr th {\n",
       "        vertical-align: top;\n",
       "    }\n",
       "\n",
       "    .dataframe thead th {\n",
       "        text-align: right;\n",
       "    }\n",
       "</style>\n",
       "<table border=\"1\" class=\"dataframe\">\n",
       "  <thead>\n",
       "    <tr style=\"text-align: right;\">\n",
       "      <th>TARGET</th>\n",
       "      <th>0</th>\n",
       "      <th>1</th>\n",
       "      <th>2</th>\n",
       "    </tr>\n",
       "    <tr>\n",
       "      <th>SOURCE_OF_ADMISSION</th>\n",
       "      <th></th>\n",
       "      <th></th>\n",
       "      <th></th>\n",
       "    </tr>\n",
       "  </thead>\n",
       "  <tbody>\n",
       "    <tr>\n",
       "      <th>1</th>\n",
       "      <td>5458</td>\n",
       "      <td>12748</td>\n",
       "      <td>11700</td>\n",
       "    </tr>\n",
       "    <tr>\n",
       "      <th>2</th>\n",
       "      <td>1559</td>\n",
       "      <td>3683</td>\n",
       "      <td>3537</td>\n",
       "    </tr>\n",
       "    <tr>\n",
       "      <th>4</th>\n",
       "      <td>1882</td>\n",
       "      <td>834</td>\n",
       "      <td>588</td>\n",
       "    </tr>\n",
       "    <tr>\n",
       "      <th>5</th>\n",
       "      <td>473</td>\n",
       "      <td>1483</td>\n",
       "      <td>4680</td>\n",
       "    </tr>\n",
       "    <tr>\n",
       "      <th>6</th>\n",
       "      <td>176</td>\n",
       "      <td>154</td>\n",
       "      <td>97</td>\n",
       "    </tr>\n",
       "    <tr>\n",
       "      <th>8</th>\n",
       "      <td>230</td>\n",
       "      <td>114</td>\n",
       "      <td>64</td>\n",
       "    </tr>\n",
       "    <tr>\n",
       "      <th>9</th>\n",
       "      <td>93</td>\n",
       "      <td>95</td>\n",
       "      <td>86</td>\n",
       "    </tr>\n",
       "    <tr>\n",
       "      <th>D</th>\n",
       "      <td>168</td>\n",
       "      <td>57</td>\n",
       "      <td>25</td>\n",
       "    </tr>\n",
       "  </tbody>\n",
       "</table>\n",
       "</div>"
      ],
      "text/plain": [
       "TARGET                  0      1      2\n",
       "SOURCE_OF_ADMISSION                    \n",
       "1                    5458  12748  11700\n",
       "2                    1559   3683   3537\n",
       "4                    1882    834    588\n",
       "5                     473   1483   4680\n",
       "6                     176    154     97\n",
       "8                     230    114     64\n",
       "9                      93     95     86\n",
       "D                     168     57     25"
      ]
     },
     "metadata": {},
     "output_type": "display_data"
    },
    {
     "data": {
      "text/markdown": [
       "**Chi-Sq Goodness of Fit**"
      ],
      "text/plain": [
       "<IPython.core.display.Markdown object>"
      ]
     },
     "metadata": {},
     "output_type": "display_data"
    },
    {
     "name": "stdout",
     "output_type": "stream",
     "text": [
      "Chi-Square statistic 6.3261e+03 (p=0.0000e+00, dof=14)\n",
      "\n",
      "\n"
     ]
    },
    {
     "data": {
      "text/markdown": [
       "#### PAT_STATE"
      ],
      "text/plain": [
       "<IPython.core.display.Markdown object>"
      ]
     },
     "metadata": {},
     "output_type": "display_data"
    },
    {
     "data": {
      "text/markdown": [
       "**Distribution**"
      ],
      "text/plain": [
       "<IPython.core.display.Markdown object>"
      ]
     },
     "metadata": {},
     "output_type": "display_data"
    },
    {
     "data": {
      "text/plain": [
       "(TX) Texas                                        48606\n",
       "(XX) Foreign country                                966\n",
       "(ZZ) All other states and American Territories      412\n",
       "Name: PAT_STATE, dtype: int64"
      ]
     },
     "metadata": {},
     "output_type": "display_data"
    },
    {
     "name": "stdout",
     "output_type": "stream",
     "text": [
      "\n",
      "\n"
     ]
    },
    {
     "data": {
      "text/markdown": [
       "**Count Plots**"
      ],
      "text/plain": [
       "<IPython.core.display.Markdown object>"
      ]
     },
     "metadata": {},
     "output_type": "display_data"
    },
    {
     "data": {
      "image/png": "[encoded data removed]",
      "text/plain": [
       "<Figure size 648x288 with 2 Axes>"
      ]
     },
     "metadata": {
      "needs_background": "light"
     },
     "output_type": "display_data"
    },
    {
     "data": {
      "text/html": [
       "<div>\n",
       "<style scoped>\n",
       "    .dataframe tbody tr th:only-of-type {\n",
       "        vertical-align: middle;\n",
       "    }\n",
       "\n",
       "    .dataframe tbody tr th {\n",
       "        vertical-align: top;\n",
       "    }\n",
       "\n",
       "    .dataframe thead th {\n",
       "        text-align: right;\n",
       "    }\n",
       "</style>\n",
       "<table border=\"1\" class=\"dataframe\">\n",
       "  <thead>\n",
       "    <tr style=\"text-align: right;\">\n",
       "      <th>TARGET</th>\n",
       "      <th>0</th>\n",
       "      <th>1</th>\n",
       "      <th>2</th>\n",
       "    </tr>\n",
       "    <tr>\n",
       "      <th>PAT_STATE</th>\n",
       "      <th></th>\n",
       "      <th></th>\n",
       "      <th></th>\n",
       "    </tr>\n",
       "  </thead>\n",
       "  <tbody>\n",
       "    <tr>\n",
       "      <th>TX</th>\n",
       "      <td>9670</td>\n",
       "      <td>18661</td>\n",
       "      <td>20275</td>\n",
       "    </tr>\n",
       "    <tr>\n",
       "      <th>XX</th>\n",
       "      <td>229</td>\n",
       "      <td>351</td>\n",
       "      <td>386</td>\n",
       "    </tr>\n",
       "    <tr>\n",
       "      <th>ZZ</th>\n",
       "      <td>140</td>\n",
       "      <td>156</td>\n",
       "      <td>116</td>\n",
       "    </tr>\n",
       "  </tbody>\n",
       "</table>\n",
       "</div>"
      ],
      "text/plain": [
       "TARGET        0      1      2\n",
       "PAT_STATE                    \n",
       "TX         9670  18661  20275\n",
       "XX          229    351    386\n",
       "ZZ          140    156    116"
      ]
     },
     "metadata": {},
     "output_type": "display_data"
    },
    {
     "data": {
      "text/markdown": [
       "**Chi-Sq Goodness of Fit**"
      ],
      "text/plain": [
       "<IPython.core.display.Markdown object>"
      ]
     },
     "metadata": {},
     "output_type": "display_data"
    },
    {
     "name": "stdout",
     "output_type": "stream",
     "text": [
      "Chi-Square statistic 6.6541e+01 (p=1.2183e-13, dof=4)\n",
      "\n",
      "\n"
     ]
    },
    {
     "data": {
      "text/markdown": [
       "#### SEX_CODE"
      ],
      "text/plain": [
       "<IPython.core.display.Markdown object>"
      ]
     },
     "metadata": {},
     "output_type": "display_data"
    },
    {
     "data": {
      "text/markdown": [
       "**Distribution**"
      ],
      "text/plain": [
       "<IPython.core.display.Markdown object>"
      ]
     },
     "metadata": {},
     "output_type": "display_data"
    },
    {
     "data": {
      "text/plain": [
       "(F) Female     27809\n",
       "(M) Male       18638\n",
       "(U) Unknown     3537\n",
       "Name: SEX_CODE, dtype: int64"
      ]
     },
     "metadata": {},
     "output_type": "display_data"
    },
    {
     "name": "stdout",
     "output_type": "stream",
     "text": [
      "\n",
      "\n"
     ]
    },
    {
     "data": {
      "text/markdown": [
       "**Count Plots**"
      ],
      "text/plain": [
       "<IPython.core.display.Markdown object>"
      ]
     },
     "metadata": {},
     "output_type": "display_data"
    },
    {
     "data": {
      "image/png": "[encoded data removed]",
      "text/plain": [
       "<Figure size 648x288 with 2 Axes>"
      ]
     },
     "metadata": {
      "needs_background": "light"
     },
     "output_type": "display_data"
    },
    {
     "data": {
      "text/html": [
       "<div>\n",
       "<style scoped>\n",
       "    .dataframe tbody tr th:only-of-type {\n",
       "        vertical-align: middle;\n",
       "    }\n",
       "\n",
       "    .dataframe tbody tr th {\n",
       "        vertical-align: top;\n",
       "    }\n",
       "\n",
       "    .dataframe thead th {\n",
       "        text-align: right;\n",
       "    }\n",
       "</style>\n",
       "<table border=\"1\" class=\"dataframe\">\n",
       "  <thead>\n",
       "    <tr style=\"text-align: right;\">\n",
       "      <th>TARGET</th>\n",
       "      <th>0</th>\n",
       "      <th>1</th>\n",
       "      <th>2</th>\n",
       "    </tr>\n",
       "    <tr>\n",
       "      <th>SEX_CODE</th>\n",
       "      <th></th>\n",
       "      <th></th>\n",
       "      <th></th>\n",
       "    </tr>\n",
       "  </thead>\n",
       "  <tbody>\n",
       "    <tr>\n",
       "      <th>F</th>\n",
       "      <td>4776</td>\n",
       "      <td>10682</td>\n",
       "      <td>12351</td>\n",
       "    </tr>\n",
       "    <tr>\n",
       "      <th>M</th>\n",
       "      <td>4262</td>\n",
       "      <td>6952</td>\n",
       "      <td>7424</td>\n",
       "    </tr>\n",
       "    <tr>\n",
       "      <th>U</th>\n",
       "      <td>1001</td>\n",
       "      <td>1534</td>\n",
       "      <td>1002</td>\n",
       "    </tr>\n",
       "  </tbody>\n",
       "</table>\n",
       "</div>"
      ],
      "text/plain": [
       "TARGET       0      1      2\n",
       "SEX_CODE                    \n",
       "F         4776  10682  12351\n",
       "M         4262   6952   7424\n",
       "U         1001   1534   1002"
      ]
     },
     "metadata": {},
     "output_type": "display_data"
    },
    {
     "data": {
      "text/markdown": [
       "**Chi-Sq Goodness of Fit**"
      ],
      "text/plain": [
       "<IPython.core.display.Markdown object>"
      ]
     },
     "metadata": {},
     "output_type": "display_data"
    },
    {
     "name": "stdout",
     "output_type": "stream",
     "text": [
      "Chi-Square statistic 5.5346e+02 (p=1.8264e-118, dof=4)\n",
      "\n",
      "\n"
     ]
    },
    {
     "data": {
      "text/markdown": [
       "#### RACE"
      ],
      "text/plain": [
       "<IPython.core.display.Markdown object>"
      ]
     },
     "metadata": {},
     "output_type": "display_data"
    },
    {
     "data": {
      "text/markdown": [
       "**Distribution**"
      ],
      "text/plain": [
       "<IPython.core.display.Markdown object>"
      ]
     },
     "metadata": {},
     "output_type": "display_data"
    },
    {
     "data": {
      "text/plain": [
       "(4) White                           31220\n",
       "(5) Other                           11020\n",
       "(3) Black                            6585\n",
       "(2) Asian or Pacific Islander        1021\n",
       "(1) American Indian/Eskimo/Aleut      138\n",
       "Name: RACE, dtype: int64"
      ]
     },
     "metadata": {},
     "output_type": "display_data"
    },
    {
     "name": "stdout",
     "output_type": "stream",
     "text": [
      "\n",
      "\n"
     ]
    },
    {
     "data": {
      "text/markdown": [
       "**Count Plots**"
      ],
      "text/plain": [
       "<IPython.core.display.Markdown object>"
      ]
     },
     "metadata": {},
     "output_type": "display_data"
    },
    {
     "data": {
      "image/png": "[encoded data removed]",
      "text/plain": [
       "<Figure size 648x288 with 2 Axes>"
      ]
     },
     "metadata": {
      "needs_background": "light"
     },
     "output_type": "display_data"
    },
    {
     "data": {
      "text/html": [
       "<div>\n",
       "<style scoped>\n",
       "    .dataframe tbody tr th:only-of-type {\n",
       "        vertical-align: middle;\n",
       "    }\n",
       "\n",
       "    .dataframe tbody tr th {\n",
       "        vertical-align: top;\n",
       "    }\n",
       "\n",
       "    .dataframe thead th {\n",
       "        text-align: right;\n",
       "    }\n",
       "</style>\n",
       "<table border=\"1\" class=\"dataframe\">\n",
       "  <thead>\n",
       "    <tr style=\"text-align: right;\">\n",
       "      <th>TARGET</th>\n",
       "      <th>0</th>\n",
       "      <th>1</th>\n",
       "      <th>2</th>\n",
       "    </tr>\n",
       "    <tr>\n",
       "      <th>RACE</th>\n",
       "      <th></th>\n",
       "      <th></th>\n",
       "      <th></th>\n",
       "    </tr>\n",
       "  </thead>\n",
       "  <tbody>\n",
       "    <tr>\n",
       "      <th>1</th>\n",
       "      <td>27</td>\n",
       "      <td>61</td>\n",
       "      <td>50</td>\n",
       "    </tr>\n",
       "    <tr>\n",
       "      <th>2</th>\n",
       "      <td>153</td>\n",
       "      <td>401</td>\n",
       "      <td>467</td>\n",
       "    </tr>\n",
       "    <tr>\n",
       "      <th>3</th>\n",
       "      <td>1464</td>\n",
       "      <td>2691</td>\n",
       "      <td>2430</td>\n",
       "    </tr>\n",
       "    <tr>\n",
       "      <th>4</th>\n",
       "      <td>6496</td>\n",
       "      <td>12016</td>\n",
       "      <td>12708</td>\n",
       "    </tr>\n",
       "    <tr>\n",
       "      <th>5</th>\n",
       "      <td>1899</td>\n",
       "      <td>3999</td>\n",
       "      <td>5122</td>\n",
       "    </tr>\n",
       "  </tbody>\n",
       "</table>\n",
       "</div>"
      ],
      "text/plain": [
       "TARGET     0      1      2\n",
       "RACE                      \n",
       "1         27     61     50\n",
       "2        153    401    467\n",
       "3       1464   2691   2430\n",
       "4       6496  12016  12708\n",
       "5       1899   3999   5122"
      ]
     },
     "metadata": {},
     "output_type": "display_data"
    },
    {
     "data": {
      "text/markdown": [
       "**Chi-Sq Goodness of Fit**"
      ],
      "text/plain": [
       "<IPython.core.display.Markdown object>"
      ]
     },
     "metadata": {},
     "output_type": "display_data"
    },
    {
     "name": "stdout",
     "output_type": "stream",
     "text": [
      "Chi-Square statistic 2.1506e+02 (p=4.2563e-42, dof=8)\n",
      "\n",
      "\n"
     ]
    },
    {
     "data": {
      "text/markdown": [
       "#### ETHNICITY"
      ],
      "text/plain": [
       "<IPython.core.display.Markdown object>"
      ]
     },
     "metadata": {},
     "output_type": "display_data"
    },
    {
     "data": {
      "text/markdown": [
       "**Distribution**"
      ],
      "text/plain": [
       "<IPython.core.display.Markdown object>"
      ]
     },
     "metadata": {},
     "output_type": "display_data"
    },
    {
     "data": {
      "text/plain": [
       "(2) Not of Hispanic Origin    35094\n",
       "(1) Hispanic Origin           14334\n",
       "(3) Unknown                     556\n",
       "Name: ETHNICITY, dtype: int64"
      ]
     },
     "metadata": {},
     "output_type": "display_data"
    },
    {
     "name": "stdout",
     "output_type": "stream",
     "text": [
      "\n",
      "\n"
     ]
    },
    {
     "data": {
      "text/markdown": [
       "**Count Plots**"
      ],
      "text/plain": [
       "<IPython.core.display.Markdown object>"
      ]
     },
     "metadata": {},
     "output_type": "display_data"
    },
    {
     "data": {
      "image/png": "[encoded data removed]",
      "text/plain": [
       "<Figure size 648x288 with 2 Axes>"
      ]
     },
     "metadata": {
      "needs_background": "light"
     },
     "output_type": "display_data"
    },
    {
     "data": {
      "text/html": [
       "<div>\n",
       "<style scoped>\n",
       "    .dataframe tbody tr th:only-of-type {\n",
       "        vertical-align: middle;\n",
       "    }\n",
       "\n",
       "    .dataframe tbody tr th {\n",
       "        vertical-align: top;\n",
       "    }\n",
       "\n",
       "    .dataframe thead th {\n",
       "        text-align: right;\n",
       "    }\n",
       "</style>\n",
       "<table border=\"1\" class=\"dataframe\">\n",
       "  <thead>\n",
       "    <tr style=\"text-align: right;\">\n",
       "      <th>TARGET</th>\n",
       "      <th>0</th>\n",
       "      <th>1</th>\n",
       "      <th>2</th>\n",
       "    </tr>\n",
       "    <tr>\n",
       "      <th>ETHNICITY</th>\n",
       "      <th></th>\n",
       "      <th></th>\n",
       "      <th></th>\n",
       "    </tr>\n",
       "  </thead>\n",
       "  <tbody>\n",
       "    <tr>\n",
       "      <th>1</th>\n",
       "      <td>2354</td>\n",
       "      <td>5132</td>\n",
       "      <td>6848</td>\n",
       "    </tr>\n",
       "    <tr>\n",
       "      <th>2</th>\n",
       "      <td>7523</td>\n",
       "      <td>13863</td>\n",
       "      <td>13708</td>\n",
       "    </tr>\n",
       "    <tr>\n",
       "      <th>3</th>\n",
       "      <td>162</td>\n",
       "      <td>173</td>\n",
       "      <td>221</td>\n",
       "    </tr>\n",
       "  </tbody>\n",
       "</table>\n",
       "</div>"
      ],
      "text/plain": [
       "TARGET        0      1      2\n",
       "ETHNICITY                    \n",
       "1          2354   5132   6848\n",
       "2          7523  13863  13708\n",
       "3           162    173    221"
      ]
     },
     "metadata": {},
     "output_type": "display_data"
    },
    {
     "data": {
      "text/markdown": [
       "**Chi-Sq Goodness of Fit**"
      ],
      "text/plain": [
       "<IPython.core.display.Markdown object>"
      ]
     },
     "metadata": {},
     "output_type": "display_data"
    },
    {
     "name": "stdout",
     "output_type": "stream",
     "text": [
      "Chi-Square statistic 3.8068e+02 (p=4.1462e-81, dof=4)\n",
      "\n",
      "\n"
     ]
    },
    {
     "data": {
      "text/markdown": [
       "#### ADMIT_WEEKDAY"
      ],
      "text/plain": [
       "<IPython.core.display.Markdown object>"
      ]
     },
     "metadata": {},
     "output_type": "display_data"
    },
    {
     "data": {
      "text/markdown": [
       "**Distribution**"
      ],
      "text/plain": [
       "<IPython.core.display.Markdown object>"
      ]
     },
     "metadata": {},
     "output_type": "display_data"
    },
    {
     "data": {
      "text/plain": [
       "(1) Monday       8746\n",
       "(2) Tuesday      8555\n",
       "(3) Wednesday    8078\n",
       "(4) Thursday     7792\n",
       "(5) Friday       7411\n",
       "(6) Saturday     4815\n",
       "(7) Sunday       4587\n",
       "Name: ADMIT_WEEKDAY, dtype: int64"
      ]
     },
     "metadata": {},
     "output_type": "display_data"
    },
    {
     "name": "stdout",
     "output_type": "stream",
     "text": [
      "\n",
      "\n"
     ]
    },
    {
     "data": {
      "text/markdown": [
       "**Count Plots**"
      ],
      "text/plain": [
       "<IPython.core.display.Markdown object>"
      ]
     },
     "metadata": {},
     "output_type": "display_data"
    },
    {
     "data": {
      "image/png": "[encoded data removed]",
      "text/plain": [
       "<Figure size 648x288 with 2 Axes>"
      ]
     },
     "metadata": {
      "needs_background": "light"
     },
     "output_type": "display_data"
    },
    {
     "data": {
      "text/html": [
       "<div>\n",
       "<style scoped>\n",
       "    .dataframe tbody tr th:only-of-type {\n",
       "        vertical-align: middle;\n",
       "    }\n",
       "\n",
       "    .dataframe tbody tr th {\n",
       "        vertical-align: top;\n",
       "    }\n",
       "\n",
       "    .dataframe thead th {\n",
       "        text-align: right;\n",
       "    }\n",
       "</style>\n",
       "<table border=\"1\" class=\"dataframe\">\n",
       "  <thead>\n",
       "    <tr style=\"text-align: right;\">\n",
       "      <th>TARGET</th>\n",
       "      <th>0</th>\n",
       "      <th>1</th>\n",
       "      <th>2</th>\n",
       "    </tr>\n",
       "    <tr>\n",
       "      <th>ADMIT_WEEKDAY</th>\n",
       "      <th></th>\n",
       "      <th></th>\n",
       "      <th></th>\n",
       "    </tr>\n",
       "  </thead>\n",
       "  <tbody>\n",
       "    <tr>\n",
       "      <th>1</th>\n",
       "      <td>1742</td>\n",
       "      <td>3337</td>\n",
       "      <td>3667</td>\n",
       "    </tr>\n",
       "    <tr>\n",
       "      <th>2</th>\n",
       "      <td>1791</td>\n",
       "      <td>3154</td>\n",
       "      <td>3610</td>\n",
       "    </tr>\n",
       "    <tr>\n",
       "      <th>3</th>\n",
       "      <td>1650</td>\n",
       "      <td>2832</td>\n",
       "      <td>3596</td>\n",
       "    </tr>\n",
       "    <tr>\n",
       "      <th>4</th>\n",
       "      <td>1610</td>\n",
       "      <td>2887</td>\n",
       "      <td>3295</td>\n",
       "    </tr>\n",
       "    <tr>\n",
       "      <th>5</th>\n",
       "      <td>1601</td>\n",
       "      <td>2990</td>\n",
       "      <td>2820</td>\n",
       "    </tr>\n",
       "    <tr>\n",
       "      <th>6</th>\n",
       "      <td>816</td>\n",
       "      <td>2089</td>\n",
       "      <td>1910</td>\n",
       "    </tr>\n",
       "    <tr>\n",
       "      <th>7</th>\n",
       "      <td>829</td>\n",
       "      <td>1879</td>\n",
       "      <td>1879</td>\n",
       "    </tr>\n",
       "  </tbody>\n",
       "</table>\n",
       "</div>"
      ],
      "text/plain": [
       "TARGET            0     1     2\n",
       "ADMIT_WEEKDAY                  \n",
       "1              1742  3337  3667\n",
       "2              1791  3154  3610\n",
       "3              1650  2832  3596\n",
       "4              1610  2887  3295\n",
       "5              1601  2990  2820\n",
       "6               816  2089  1910\n",
       "7               829  1879  1879"
      ]
     },
     "metadata": {},
     "output_type": "display_data"
    },
    {
     "data": {
      "text/markdown": [
       "**Chi-Sq Goodness of Fit**"
      ],
      "text/plain": [
       "<IPython.core.display.Markdown object>"
      ]
     },
     "metadata": {},
     "output_type": "display_data"
    },
    {
     "name": "stdout",
     "output_type": "stream",
     "text": [
      "Chi-Square statistic 1.7084e+02 (p=3.2118e-30, dof=12)\n",
      "\n",
      "\n"
     ]
    },
    {
     "data": {
      "text/markdown": [
       "#### PAT_AGE"
      ],
      "text/plain": [
       "<IPython.core.display.Markdown object>"
      ]
     },
     "metadata": {},
     "output_type": "display_data"
    },
    {
     "data": {
      "text/markdown": [
       "**Distribution**"
      ],
      "text/plain": [
       "<IPython.core.display.Markdown object>"
      ]
     },
     "metadata": {},
     "output_type": "display_data"
    },
    {
     "data": {
      "text/plain": [
       "(4) Adult          18762\n",
       "(5) Elderly        11475\n",
       "(3) Young Adult     9256\n",
       "(1) Child           8375\n",
       "(2) Teen            2116\n",
       "Name: PAT_AGE, dtype: int64"
      ]
     },
     "metadata": {},
     "output_type": "display_data"
    },
    {
     "name": "stdout",
     "output_type": "stream",
     "text": [
      "\n",
      "\n"
     ]
    },
    {
     "data": {
      "text/markdown": [
       "**Count Plots**"
      ],
      "text/plain": [
       "<IPython.core.display.Markdown object>"
      ]
     },
     "metadata": {},
     "output_type": "display_data"
    },
    {
     "data": {
      "image/png": "[encoded data removed]",
      "text/plain": [
       "<Figure size 648x288 with 2 Axes>"
      ]
     },
     "metadata": {
      "needs_background": "light"
     },
     "output_type": "display_data"
    },
    {
     "data": {
      "text/html": [
       "<div>\n",
       "<style scoped>\n",
       "    .dataframe tbody tr th:only-of-type {\n",
       "        vertical-align: middle;\n",
       "    }\n",
       "\n",
       "    .dataframe tbody tr th {\n",
       "        vertical-align: top;\n",
       "    }\n",
       "\n",
       "    .dataframe thead th {\n",
       "        text-align: right;\n",
       "    }\n",
       "</style>\n",
       "<table border=\"1\" class=\"dataframe\">\n",
       "  <thead>\n",
       "    <tr style=\"text-align: right;\">\n",
       "      <th>TARGET</th>\n",
       "      <th>0</th>\n",
       "      <th>1</th>\n",
       "      <th>2</th>\n",
       "    </tr>\n",
       "    <tr>\n",
       "      <th>PAT_AGE</th>\n",
       "      <th></th>\n",
       "      <th></th>\n",
       "      <th></th>\n",
       "    </tr>\n",
       "  </thead>\n",
       "  <tbody>\n",
       "    <tr>\n",
       "      <th>1</th>\n",
       "      <td>711</td>\n",
       "      <td>2157</td>\n",
       "      <td>5507</td>\n",
       "    </tr>\n",
       "    <tr>\n",
       "      <th>2</th>\n",
       "      <td>398</td>\n",
       "      <td>816</td>\n",
       "      <td>902</td>\n",
       "    </tr>\n",
       "    <tr>\n",
       "      <th>3</th>\n",
       "      <td>1016</td>\n",
       "      <td>3451</td>\n",
       "      <td>4789</td>\n",
       "    </tr>\n",
       "    <tr>\n",
       "      <th>4</th>\n",
       "      <td>4377</td>\n",
       "      <td>7772</td>\n",
       "      <td>6613</td>\n",
       "    </tr>\n",
       "    <tr>\n",
       "      <th>5</th>\n",
       "      <td>3537</td>\n",
       "      <td>4972</td>\n",
       "      <td>2966</td>\n",
       "    </tr>\n",
       "  </tbody>\n",
       "</table>\n",
       "</div>"
      ],
      "text/plain": [
       "TARGET      0     1     2\n",
       "PAT_AGE                  \n",
       "1         711  2157  5507\n",
       "2         398   816   902\n",
       "3        1016  3451  4789\n",
       "4        4377  7772  6613\n",
       "5        3537  4972  2966"
      ]
     },
     "metadata": {},
     "output_type": "display_data"
    },
    {
     "data": {
      "text/markdown": [
       "**Chi-Sq Goodness of Fit**"
      ],
      "text/plain": [
       "<IPython.core.display.Markdown object>"
      ]
     },
     "metadata": {},
     "output_type": "display_data"
    },
    {
     "name": "stdout",
     "output_type": "stream",
     "text": [
      "Chi-Square statistic 4.4437e+03 (p=0.0000e+00, dof=8)\n",
      "\n",
      "\n"
     ]
    },
    {
     "data": {
      "text/markdown": [
       "#### PAT_COUNTRY"
      ],
      "text/plain": [
       "<IPython.core.display.Markdown object>"
      ]
     },
     "metadata": {},
     "output_type": "display_data"
    },
    {
     "data": {
      "text/markdown": [
       "**Distribution**"
      ],
      "text/plain": [
       "<IPython.core.display.Markdown object>"
      ]
     },
     "metadata": {},
     "output_type": "display_data"
    },
    {
     "data": {
      "text/plain": [
       "(US) Unites States      49535\n",
       "(XX) Other Countries      346\n",
       "(MX) Mexico               103\n",
       "Name: PAT_COUNTRY, dtype: int64"
      ]
     },
     "metadata": {},
     "output_type": "display_data"
    },
    {
     "name": "stdout",
     "output_type": "stream",
     "text": [
      "\n",
      "\n"
     ]
    },
    {
     "data": {
      "text/markdown": [
       "**Count Plots**"
      ],
      "text/plain": [
       "<IPython.core.display.Markdown object>"
      ]
     },
     "metadata": {},
     "output_type": "display_data"
    },
    {
     "data": {
      "image/png": "[encoded data removed]",
      "text/plain": [
       "<Figure size 648x288 with 2 Axes>"
      ]
     },
     "metadata": {
      "needs_background": "light"
     },
     "output_type": "display_data"
    },
    {
     "data": {
      "text/html": [
       "<div>\n",
       "<style scoped>\n",
       "    .dataframe tbody tr th:only-of-type {\n",
       "        vertical-align: middle;\n",
       "    }\n",
       "\n",
       "    .dataframe tbody tr th {\n",
       "        vertical-align: top;\n",
       "    }\n",
       "\n",
       "    .dataframe thead th {\n",
       "        text-align: right;\n",
       "    }\n",
       "</style>\n",
       "<table border=\"1\" class=\"dataframe\">\n",
       "  <thead>\n",
       "    <tr style=\"text-align: right;\">\n",
       "      <th>TARGET</th>\n",
       "      <th>0</th>\n",
       "      <th>1</th>\n",
       "      <th>2</th>\n",
       "    </tr>\n",
       "    <tr>\n",
       "      <th>PAT_COUNTRY</th>\n",
       "      <th></th>\n",
       "      <th></th>\n",
       "      <th></th>\n",
       "    </tr>\n",
       "  </thead>\n",
       "  <tbody>\n",
       "    <tr>\n",
       "      <th>MX</th>\n",
       "      <td>2</td>\n",
       "      <td>25</td>\n",
       "      <td>76</td>\n",
       "    </tr>\n",
       "    <tr>\n",
       "      <th>US</th>\n",
       "      <td>9918</td>\n",
       "      <td>19013</td>\n",
       "      <td>20604</td>\n",
       "    </tr>\n",
       "    <tr>\n",
       "      <th>XX</th>\n",
       "      <td>119</td>\n",
       "      <td>130</td>\n",
       "      <td>97</td>\n",
       "    </tr>\n",
       "  </tbody>\n",
       "</table>\n",
       "</div>"
      ],
      "text/plain": [
       "TARGET          0      1      2\n",
       "PAT_COUNTRY                    \n",
       "MX              2     25     76\n",
       "US           9918  19013  20604\n",
       "XX            119    130     97"
      ]
     },
     "metadata": {},
     "output_type": "display_data"
    },
    {
     "data": {
      "text/markdown": [
       "**Chi-Sq Goodness of Fit**"
      ],
      "text/plain": [
       "<IPython.core.display.Markdown object>"
      ]
     },
     "metadata": {},
     "output_type": "display_data"
    },
    {
     "name": "stdout",
     "output_type": "stream",
     "text": [
      "Chi-Square statistic 9.8613e+01 (p=1.9409e-20, dof=4)\n",
      "\n",
      "\n"
     ]
    },
    {
     "data": {
      "text/markdown": [
       "#### POA_PROVIDER_INDICATOR"
      ],
      "text/plain": [
       "<IPython.core.display.Markdown object>"
      ]
     },
     "metadata": {},
     "output_type": "display_data"
    },
    {
     "data": {
      "text/markdown": [
       "**Distribution**"
      ],
      "text/plain": [
       "<IPython.core.display.Markdown object>"
      ]
     },
     "metadata": {},
     "output_type": "display_data"
    },
    {
     "data": {
      "text/plain": [
       "(M) Mixed       25716\n",
       "(R) Required    18638\n",
       "(X) Exempt       5630\n",
       "Name: POA_PROVIDER_INDICATOR, dtype: int64"
      ]
     },
     "metadata": {},
     "output_type": "display_data"
    },
    {
     "name": "stdout",
     "output_type": "stream",
     "text": [
      "\n",
      "\n"
     ]
    },
    {
     "data": {
      "text/markdown": [
       "**Count Plots**"
      ],
      "text/plain": [
       "<IPython.core.display.Markdown object>"
      ]
     },
     "metadata": {},
     "output_type": "display_data"
    },
    {
     "data": {
      "image/png": "[encoded data removed]",
      "text/plain": [
       "<Figure size 648x288 with 2 Axes>"
      ]
     },
     "metadata": {
      "needs_background": "light"
     },
     "output_type": "display_data"
    },
    {
     "data": {
      "text/html": [
       "<div>\n",
       "<style scoped>\n",
       "    .dataframe tbody tr th:only-of-type {\n",
       "        vertical-align: middle;\n",
       "    }\n",
       "\n",
       "    .dataframe tbody tr th {\n",
       "        vertical-align: top;\n",
       "    }\n",
       "\n",
       "    .dataframe thead th {\n",
       "        text-align: right;\n",
       "    }\n",
       "</style>\n",
       "<table border=\"1\" class=\"dataframe\">\n",
       "  <thead>\n",
       "    <tr style=\"text-align: right;\">\n",
       "      <th>TARGET</th>\n",
       "      <th>0</th>\n",
       "      <th>1</th>\n",
       "      <th>2</th>\n",
       "    </tr>\n",
       "    <tr>\n",
       "      <th>POA_PROVIDER_INDICATOR</th>\n",
       "      <th></th>\n",
       "      <th></th>\n",
       "      <th></th>\n",
       "    </tr>\n",
       "  </thead>\n",
       "  <tbody>\n",
       "    <tr>\n",
       "      <th>M</th>\n",
       "      <td>4667</td>\n",
       "      <td>9932</td>\n",
       "      <td>11117</td>\n",
       "    </tr>\n",
       "    <tr>\n",
       "      <th>R</th>\n",
       "      <td>2613</td>\n",
       "      <td>7457</td>\n",
       "      <td>8568</td>\n",
       "    </tr>\n",
       "    <tr>\n",
       "      <th>X</th>\n",
       "      <td>2759</td>\n",
       "      <td>1779</td>\n",
       "      <td>1092</td>\n",
       "    </tr>\n",
       "  </tbody>\n",
       "</table>\n",
       "</div>"
      ],
      "text/plain": [
       "TARGET                     0     1      2\n",
       "POA_PROVIDER_INDICATOR                   \n",
       "M                       4667  9932  11117\n",
       "R                       2613  7457   8568\n",
       "X                       2759  1779   1092"
      ]
     },
     "metadata": {},
     "output_type": "display_data"
    },
    {
     "data": {
      "text/markdown": [
       "**Chi-Sq Goodness of Fit**"
      ],
      "text/plain": [
       "<IPython.core.display.Markdown object>"
      ]
     },
     "metadata": {},
     "output_type": "display_data"
    },
    {
     "name": "stdout",
     "output_type": "stream",
     "text": [
      "Chi-Square statistic 3.5846e+03 (p=0.0000e+00, dof=4)\n",
      "\n",
      "\n"
     ]
    },
    {
     "data": {
      "text/markdown": [
       "#### ILLNESS_SEVERITY"
      ],
      "text/plain": [
       "<IPython.core.display.Markdown object>"
      ]
     },
     "metadata": {},
     "output_type": "display_data"
    },
    {
     "data": {
      "text/markdown": [
       "**Distribution**"
      ],
      "text/plain": [
       "<IPython.core.display.Markdown object>"
      ]
     },
     "metadata": {},
     "output_type": "display_data"
    },
    {
     "data": {
      "text/plain": [
       "(1) Minor       18720\n",
       "(2) Moderate    17565\n",
       "(3) Major       10436\n",
       "(4) Extreme      3263\n",
       "Name: ILLNESS_SEVERITY, dtype: int64"
      ]
     },
     "metadata": {},
     "output_type": "display_data"
    },
    {
     "name": "stdout",
     "output_type": "stream",
     "text": [
      "\n",
      "\n"
     ]
    },
    {
     "data": {
      "text/markdown": [
       "**Count Plots**"
      ],
      "text/plain": [
       "<IPython.core.display.Markdown object>"
      ]
     },
     "metadata": {},
     "output_type": "display_data"
    },
    {
     "data": {
      "image/png": "[encoded data removed]",
      "text/plain": [
       "<Figure size 648x288 with 2 Axes>"
      ]
     },
     "metadata": {
      "needs_background": "light"
     },
     "output_type": "display_data"
    },
    {
     "data": {
      "text/html": [
       "<div>\n",
       "<style scoped>\n",
       "    .dataframe tbody tr th:only-of-type {\n",
       "        vertical-align: middle;\n",
       "    }\n",
       "\n",
       "    .dataframe tbody tr th {\n",
       "        vertical-align: top;\n",
       "    }\n",
       "\n",
       "    .dataframe thead th {\n",
       "        text-align: right;\n",
       "    }\n",
       "</style>\n",
       "<table border=\"1\" class=\"dataframe\">\n",
       "  <thead>\n",
       "    <tr style=\"text-align: right;\">\n",
       "      <th>TARGET</th>\n",
       "      <th>0</th>\n",
       "      <th>1</th>\n",
       "      <th>2</th>\n",
       "    </tr>\n",
       "    <tr>\n",
       "      <th>ILLNESS_SEVERITY</th>\n",
       "      <th></th>\n",
       "      <th></th>\n",
       "      <th></th>\n",
       "    </tr>\n",
       "  </thead>\n",
       "  <tbody>\n",
       "    <tr>\n",
       "      <th>1</th>\n",
       "      <td>1200</td>\n",
       "      <td>5674</td>\n",
       "      <td>11846</td>\n",
       "    </tr>\n",
       "    <tr>\n",
       "      <th>2</th>\n",
       "      <td>2871</td>\n",
       "      <td>7923</td>\n",
       "      <td>6771</td>\n",
       "    </tr>\n",
       "    <tr>\n",
       "      <th>3</th>\n",
       "      <td>3746</td>\n",
       "      <td>4850</td>\n",
       "      <td>1840</td>\n",
       "    </tr>\n",
       "    <tr>\n",
       "      <th>4</th>\n",
       "      <td>2222</td>\n",
       "      <td>721</td>\n",
       "      <td>320</td>\n",
       "    </tr>\n",
       "  </tbody>\n",
       "</table>\n",
       "</div>"
      ],
      "text/plain": [
       "TARGET               0     1      2\n",
       "ILLNESS_SEVERITY                   \n",
       "1                 1200  5674  11846\n",
       "2                 2871  7923   6771\n",
       "3                 3746  4850   1840\n",
       "4                 2222   721    320"
      ]
     },
     "metadata": {},
     "output_type": "display_data"
    },
    {
     "data": {
      "text/markdown": [
       "**Chi-Sq Goodness of Fit**"
      ],
      "text/plain": [
       "<IPython.core.display.Markdown object>"
      ]
     },
     "metadata": {},
     "output_type": "display_data"
    },
    {
     "name": "stdout",
     "output_type": "stream",
     "text": [
      "Chi-Square statistic 1.2230e+04 (p=0.0000e+00, dof=6)\n",
      "\n",
      "\n"
     ]
    },
    {
     "data": {
      "text/markdown": [
       "#### RISK_MORTALITY"
      ],
      "text/plain": [
       "<IPython.core.display.Markdown object>"
      ]
     },
     "metadata": {},
     "output_type": "display_data"
    },
    {
     "data": {
      "text/markdown": [
       "**Distribution**"
      ],
      "text/plain": [
       "<IPython.core.display.Markdown object>"
      ]
     },
     "metadata": {},
     "output_type": "display_data"
    },
    {
     "data": {
      "text/plain": [
       "(1) Minor       30808\n",
       "(2) Moderate    10059\n",
       "(3) Major        6623\n",
       "(4) Extreme      2494\n",
       "Name: RISK_MORTALITY, dtype: int64"
      ]
     },
     "metadata": {},
     "output_type": "display_data"
    },
    {
     "name": "stdout",
     "output_type": "stream",
     "text": [
      "\n",
      "\n"
     ]
    },
    {
     "data": {
      "text/markdown": [
       "**Count Plots**"
      ],
      "text/plain": [
       "<IPython.core.display.Markdown object>"
      ]
     },
     "metadata": {},
     "output_type": "display_data"
    },
    {
     "data": {
      "image/png": "[encoded data removed]",
      "text/plain": [
       "<Figure size 648x288 with 2 Axes>"
      ]
     },
     "metadata": {
      "needs_background": "light"
     },
     "output_type": "display_data"
    },
    {
     "data": {
      "text/html": [
       "<div>\n",
       "<style scoped>\n",
       "    .dataframe tbody tr th:only-of-type {\n",
       "        vertical-align: middle;\n",
       "    }\n",
       "\n",
       "    .dataframe tbody tr th {\n",
       "        vertical-align: top;\n",
       "    }\n",
       "\n",
       "    .dataframe thead th {\n",
       "        text-align: right;\n",
       "    }\n",
       "</style>\n",
       "<table border=\"1\" class=\"dataframe\">\n",
       "  <thead>\n",
       "    <tr style=\"text-align: right;\">\n",
       "      <th>TARGET</th>\n",
       "      <th>0</th>\n",
       "      <th>1</th>\n",
       "      <th>2</th>\n",
       "    </tr>\n",
       "    <tr>\n",
       "      <th>RISK_MORTALITY</th>\n",
       "      <th></th>\n",
       "      <th></th>\n",
       "      <th></th>\n",
       "    </tr>\n",
       "  </thead>\n",
       "  <tbody>\n",
       "    <tr>\n",
       "      <th>1</th>\n",
       "      <td>3246</td>\n",
       "      <td>11085</td>\n",
       "      <td>16477</td>\n",
       "    </tr>\n",
       "    <tr>\n",
       "      <th>2</th>\n",
       "      <td>2509</td>\n",
       "      <td>4590</td>\n",
       "      <td>2960</td>\n",
       "    </tr>\n",
       "    <tr>\n",
       "      <th>3</th>\n",
       "      <td>2753</td>\n",
       "      <td>2844</td>\n",
       "      <td>1026</td>\n",
       "    </tr>\n",
       "    <tr>\n",
       "      <th>4</th>\n",
       "      <td>1531</td>\n",
       "      <td>649</td>\n",
       "      <td>314</td>\n",
       "    </tr>\n",
       "  </tbody>\n",
       "</table>\n",
       "</div>"
      ],
      "text/plain": [
       "TARGET             0      1      2\n",
       "RISK_MORTALITY                    \n",
       "1               3246  11085  16477\n",
       "2               2509   4590   2960\n",
       "3               2753   2844   1026\n",
       "4               1531    649    314"
      ]
     },
     "metadata": {},
     "output_type": "display_data"
    },
    {
     "data": {
      "text/markdown": [
       "**Chi-Sq Goodness of Fit**"
      ],
      "text/plain": [
       "<IPython.core.display.Markdown object>"
      ]
     },
     "metadata": {},
     "output_type": "display_data"
    },
    {
     "name": "stdout",
     "output_type": "stream",
     "text": [
      "Chi-Square statistic 8.4724e+03 (p=0.0000e+00, dof=6)\n"
     ]
    }
   ],
   "source": [
    "target_features = [ \"SOURCE_OF_ADMISSION\", \"PAT_STATE\", \"SEX_CODE\", \"RACE\", \"ETHNICITY\", \"ADMIT_WEEKDAY\", \"PAT_AGE\", \"PAT_COUNTRY\", \"POA_PROVIDER_INDICATOR\", \"ILLNESS_SEVERITY\", \"RISK_MORTALITY\"]\n",
    "\n",
    "for tf in target_features:\n",
    "    ml.eda_categorical(df, tf, target, max_categories=20, labels=feature_labels[tf], header=True, brief=False)"
   ]
  },
  {
   "cell_type": "code",
   "execution_count": null,
   "metadata": {},
   "outputs": [],
   "source": []
  }
 ],
 "metadata": {
  "kernelspec": {
   "display_name": "Python 3",
   "language": "python",
   "name": "python3"
  },
  "language_info": {
   "codemirror_mode": {
    "name": "ipython",
    "version": 3
   },
   "file_extension": ".py",
   "mimetype": "text/x-python",
   "name": "python",
   "nbconvert_exporter": "python",
   "pygments_lexer": "ipython3",
   "version": "3.7.7"
  }
 },
 "nbformat": 4,
 "nbformat_minor": 4
}
