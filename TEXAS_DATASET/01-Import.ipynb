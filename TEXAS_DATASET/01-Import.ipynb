{
 "cells": [
  {
   "cell_type": "markdown",
   "metadata": {
    "Collapsed": "false"
   },
   "source": [
    "# Texas Hospital Discharge - Import"
   ]
  },
  {
   "cell_type": "code",
   "execution_count": null,
   "metadata": {
    "Collapsed": "false"
   },
   "outputs": [],
   "source": [
    "import pandas as pd\n",
    "import numpy as np\n",
    "import matplotlib.pyplot as plt\n",
    "import matplotlib\n",
    "import pandas_profiling\n",
    "\n",
    "import seaborn as sns\n",
    "sns.set_style(\"darkgrid\")\n",
    "\n",
    "from IPython.display import display, Markdown\n",
    "pd.set_option('display.max_columns', None)  \n",
    "\n",
    "import glob, os\n",
    "SEED = 42\n",
    "feature_labels = {}"
   ]
  },
  {
   "cell_type": "markdown",
   "metadata": {
    "Collapsed": "false"
   },
   "source": [
    "## Download Files"
   ]
  },
  {
   "cell_type": "code",
   "execution_count": null,
   "metadata": {
    "Collapsed": "false"
   },
   "outputs": [],
   "source": [
    "for d in [\"src\", \"data\", \"doc\", \"output\"]:\n",
    "    os.makedirs(d, exist_ok=True)"
   ]
  },
  {
   "cell_type": "code",
   "execution_count": null,
   "metadata": {
    "Collapsed": "false"
   },
   "outputs": [],
   "source": [
    "URL = \"https://kmurphy.bitbucket.io/modules/Data_Mining_2/topics/05-Assignment/01-Specification/files/\"\n",
    "\n",
    "files = \"my_lib.py train.csv.gz grading.csv.gz Facility_type1q2013_tab.zip Facility_type2q2013_tab.zip Facility_type3q2013_tab.zip Facility_type4q2013_tab.zip UserManual1Q2013.pdf\"\n",
    "\n",
    "for filename in files.split(\" \"):\n",
    "    \n",
    "    ext = filename.split(\".\")[-1]\n",
    "    dest = {\"pdf\":\"doc\", \"py\":\".\", \"ipynb\":\".\", \"gz\":\"src\", \"zip\":\"src\"}[ext]\n",
    "   \n",
    "    source = f\"{URL}/{filename}\"\n",
    "    target = f\"{dest}/{filename}\"\n",
    "\n",
    "    if not os.path.isfile(target):\n",
    "        print (f\"Downloading remote file {filename}\", sep=\"\")\n",
    "        import urllib.request\n",
    "        urllib.request.urlretrieve(source, target)\n",
    "    else:\n",
    "        print(f\"Using local copy of {filename} in folder {dest}\")"
   ]
  },
  {
   "cell_type": "code",
   "execution_count": null,
   "metadata": {
    "Collapsed": "false"
   },
   "outputs": [],
   "source": [
    "df = pd.read_csv(f\"src/train.csv.gz\", dtype=str)\n",
    "df_grading = pd.read_csv(f\"src/grading.csv.gz\", dtype=str)\n",
    "\n",
    "print(df.shape)\n",
    "print(df_grading.shape)"
   ]
  },
  {
   "cell_type": "markdown",
   "metadata": {},
   "source": [
    "## Deleting Columns if half of its rows is empty"
   ]
  },
  {
   "cell_type": "code",
   "execution_count": 5,
   "metadata": {},
   "outputs": [],
   "source": [
    "null_list = []\n",
    "for i in df.columns:\n",
    "    if df[i].isnull().sum() >= 50000 and i != \"SEX_CODE\":\n",
    "        null_list.append(i)"
   ]
  },
  {
   "cell_type": "code",
   "execution_count": 6,
   "metadata": {},
   "outputs": [],
   "source": [
    "# Dropping irrelevant columns to reduce size of dataset\n",
    "def drop_irrelevant_columns(df_in):\n",
    "    # Dropping irrelevant columns \n",
    "    print(f'\\nDropping {len(null_list)} columns ....')\n",
    "    new_df = df_in.drop(columns=null_list)   \n",
    "    print(f\"New Dataframe: {new_df.shape}\")\n",
    "    \n",
    "    return new_df"
   ]
  },
  {
   "cell_type": "code",
   "execution_count": 7,
   "metadata": {},
   "outputs": [
    {
     "name": "stdout",
     "output_type": "stream",
     "text": [
      "\n",
      "Dropping 152 columns ....\n",
      "New Dataframe: (1000000, 42)\n",
      "\n",
      "Dropping 152 columns ....\n",
      "New Dataframe: (100000, 41)\n"
     ]
    }
   ],
   "source": [
    "# Delete all columns where sum of null values >= 50,000\n",
    "df = drop_irrelevant_columns(df)\n",
    "df_grading = drop_irrelevant_columns(df_grading)"
   ]
  },
  {
   "cell_type": "markdown",
   "metadata": {
    "Collapsed": "false"
   },
   "source": [
    "## Construct Target "
   ]
  },
  {
   "cell_type": "code",
   "execution_count": 8,
   "metadata": {},
   "outputs": [],
   "source": [
    "df.dropna(subset=[\"LENGTH_OF_STAY\"], inplace=True)\n",
    "df.LENGTH_OF_STAY = df.LENGTH_OF_STAY.astype(int)"
   ]
  },
  {
   "cell_type": "code",
   "execution_count": 9,
   "metadata": {},
   "outputs": [
    {
     "data": {
      "text/plain": [
       "short     414152\n",
       "medium    381437\n",
       "long      204109\n",
       "Name: TARGET, dtype: int64"
      ]
     },
     "execution_count": 9,
     "metadata": {},
     "output_type": "execute_result"
    }
   ],
   "source": [
    "df[\"TARGET\"] = df.LENGTH_OF_STAY.apply(lambda x: \"short\" if x<3 else (\"medium\" if x<=6 else \"long\"))\n",
    "df.TARGET.value_counts(dropna=False)"
   ]
  },
  {
   "cell_type": "code",
   "execution_count": 10,
   "metadata": {},
   "outputs": [
    {
     "name": "stdout",
     "output_type": "stream",
     "text": [
      "(999698, 43)\n"
     ]
    }
   ],
   "source": [
    "# Shuffle or randomize the dataframe\n",
    "df_sample = df.sample(frac=1, random_state=SEED)\n",
    "print(df_sample.shape)"
   ]
  },
  {
   "cell_type": "markdown",
   "metadata": {},
   "source": [
    "## Split 1M rows in out data into 20 smaller csv files "
   ]
  },
  {
   "cell_type": "code",
   "execution_count": 11,
   "metadata": {},
   "outputs": [
    {
     "name": "stdout",
     "output_type": "stream",
     "text": [
      "data/df_train_sample_00_of_20.csv\n",
      "data/df_train_sample_01_of_20.csv\n",
      "data/df_train_sample_02_of_20.csv\n",
      "data/df_train_sample_03_of_20.csv\n",
      "data/df_train_sample_04_of_20.csv\n",
      "data/df_train_sample_05_of_20.csv\n",
      "data/df_train_sample_06_of_20.csv\n",
      "data/df_train_sample_07_of_20.csv\n",
      "data/df_train_sample_08_of_20.csv\n",
      "data/df_train_sample_09_of_20.csv\n",
      "data/df_train_sample_10_of_20.csv\n",
      "data/df_train_sample_11_of_20.csv\n",
      "data/df_train_sample_12_of_20.csv\n",
      "data/df_train_sample_13_of_20.csv\n",
      "data/df_train_sample_14_of_20.csv\n",
      "data/df_train_sample_15_of_20.csv\n",
      "data/df_train_sample_16_of_20.csv\n",
      "data/df_train_sample_17_of_20.csv\n",
      "data/df_train_sample_18_of_20.csv\n",
      "data/df_train_sample_19_of_20.csv\n"
     ]
    }
   ],
   "source": [
    "parts = 20\n",
    "nrows = df.shape[0] // parts\n",
    "for k in range(parts):\n",
    "    filename = ('data/df_train_sample_%02d_of_%d.csv' % (k, parts))\n",
    "    print(filename)\n",
    "    df_sample.iloc[k*nrows:(k+1)*nrows].to_csv(filename, index=False)\n",
    "\n",
    "# for parts in [40,20,10,5,2,1]:\n",
    "#     nrows = df.shape[0] // parts\n",
    "#     filename = ('data/df_train_sample_%02d_of_%d.csv' % (k, parts))\n",
    "#     print(filename)\n",
    "#     df_sample.iloc[k*nrows:(k+1)*nrows].to_csv(filename, index=False)"
   ]
  },
  {
   "cell_type": "markdown",
   "metadata": {},
   "source": [
    "## Saving Grading Datset"
   ]
  },
  {
   "cell_type": "code",
   "execution_count": 12,
   "metadata": {},
   "outputs": [],
   "source": [
    "df_grading.to_csv(\"data/grading.csv\", index=False)"
   ]
  },
  {
   "cell_type": "markdown",
   "metadata": {},
   "source": [
    "## Facility Dataset"
   ]
  },
  {
   "cell_type": "code",
   "execution_count": 13,
   "metadata": {},
   "outputs": [],
   "source": [
    "# Import facility\n",
    "df_facility_raw = pd.read_csv(\"src/Facility_type1q2013_tab.zip\", sep=\"\\t\")\n",
    "df_facility_quarters = [pd.read_csv(\"src/Facility_type%sq2013_tab.zip\" % k, sep=\"\\t\") for k in range(1,4)]"
   ]
  },
  {
   "cell_type": "code",
   "execution_count": 14,
   "metadata": {},
   "outputs": [],
   "source": [
    "# First clean: drop column and fill in null values\n",
    "df_facility = pd.concat(df_facility_quarters, ignore_index=True)\n",
    "df_facility.drop(columns=[\"Unnamed: 10\"], inplace=True)\n",
    "df_facility.fillna(0, inplace=True)"
   ]
  },
  {
   "cell_type": "code",
   "execution_count": 15,
   "metadata": {},
   "outputs": [
    {
     "data": {
      "text/html": [
       "<div>\n",
       "<style scoped>\n",
       "    .dataframe tbody tr th:only-of-type {\n",
       "        vertical-align: middle;\n",
       "    }\n",
       "\n",
       "    .dataframe tbody tr th {\n",
       "        vertical-align: top;\n",
       "    }\n",
       "\n",
       "    .dataframe thead th {\n",
       "        text-align: right;\n",
       "    }\n",
       "</style>\n",
       "<table border=\"1\" class=\"dataframe\">\n",
       "  <thead>\n",
       "    <tr style=\"text-align: right;\">\n",
       "      <th></th>\n",
       "      <th>THCIC_ID</th>\n",
       "      <th>PROVIDER_NAME</th>\n",
       "      <th>FAC_TEACHING_IND</th>\n",
       "      <th>FAC_PSYCH_IND</th>\n",
       "      <th>FAC_REHAB_IND</th>\n",
       "      <th>FAC_ACUTE_CARE_IND</th>\n",
       "      <th>FAC_SNF_IND</th>\n",
       "      <th>FAC_LONG_TERM_AC_IND</th>\n",
       "      <th>FAC_OTHER_LTC_IND</th>\n",
       "      <th>FAC_PEDS_IND</th>\n",
       "    </tr>\n",
       "  </thead>\n",
       "  <tbody>\n",
       "    <tr>\n",
       "      <th>0</th>\n",
       "      <td>100</td>\n",
       "      <td>Austin State Hospital</td>\n",
       "      <td>0</td>\n",
       "      <td>X</td>\n",
       "      <td>0</td>\n",
       "      <td>0</td>\n",
       "      <td>0</td>\n",
       "      <td>0</td>\n",
       "      <td>0</td>\n",
       "      <td>0</td>\n",
       "    </tr>\n",
       "    <tr>\n",
       "      <th>1</th>\n",
       "      <td>101</td>\n",
       "      <td>Big Spring State Hospital</td>\n",
       "      <td>0</td>\n",
       "      <td>X</td>\n",
       "      <td>0</td>\n",
       "      <td>0</td>\n",
       "      <td>0</td>\n",
       "      <td>0</td>\n",
       "      <td>0</td>\n",
       "      <td>0</td>\n",
       "    </tr>\n",
       "    <tr>\n",
       "      <th>2</th>\n",
       "      <td>102</td>\n",
       "      <td>UT Medical Branch Hospital</td>\n",
       "      <td>A</td>\n",
       "      <td>0</td>\n",
       "      <td>X</td>\n",
       "      <td>X</td>\n",
       "      <td>0</td>\n",
       "      <td>0</td>\n",
       "      <td>0</td>\n",
       "      <td>X</td>\n",
       "    </tr>\n",
       "    <tr>\n",
       "      <th>3</th>\n",
       "      <td>104</td>\n",
       "      <td>Rio Grande State Center</td>\n",
       "      <td>0</td>\n",
       "      <td>X</td>\n",
       "      <td>0</td>\n",
       "      <td>0</td>\n",
       "      <td>0</td>\n",
       "      <td>0</td>\n",
       "      <td>0</td>\n",
       "      <td>0</td>\n",
       "    </tr>\n",
       "    <tr>\n",
       "      <th>4</th>\n",
       "      <td>105</td>\n",
       "      <td>UT MD Anderson Cancer Center</td>\n",
       "      <td>A</td>\n",
       "      <td>0</td>\n",
       "      <td>0</td>\n",
       "      <td>X</td>\n",
       "      <td>0</td>\n",
       "      <td>0</td>\n",
       "      <td>0</td>\n",
       "      <td>0</td>\n",
       "    </tr>\n",
       "  </tbody>\n",
       "</table>\n",
       "</div>"
      ],
      "text/plain": [
       "   THCIC_ID                 PROVIDER_NAME FAC_TEACHING_IND FAC_PSYCH_IND  \\\n",
       "0       100         Austin State Hospital                0             X   \n",
       "1       101     Big Spring State Hospital                0             X   \n",
       "2       102    UT Medical Branch Hospital                A             0   \n",
       "3       104       Rio Grande State Center                0             X   \n",
       "4       105  UT MD Anderson Cancer Center                A             0   \n",
       "\n",
       "  FAC_REHAB_IND FAC_ACUTE_CARE_IND FAC_SNF_IND FAC_LONG_TERM_AC_IND  \\\n",
       "0             0                  0           0                    0   \n",
       "1             0                  0           0                    0   \n",
       "2             X                  X           0                    0   \n",
       "3             0                  0           0                    0   \n",
       "4             0                  X           0                    0   \n",
       "\n",
       "  FAC_OTHER_LTC_IND FAC_PEDS_IND  \n",
       "0                 0            0  \n",
       "1                 0            0  \n",
       "2                 0            X  \n",
       "3                 0            0  \n",
       "4                 0            0  "
      ]
     },
     "metadata": {},
     "output_type": "display_data"
    },
    {
     "data": {
      "text/plain": [
       "(1748, 10)"
      ]
     },
     "metadata": {},
     "output_type": "display_data"
    }
   ],
   "source": [
    "display(df_facility.head())\n",
    "display(df_facility.shape)"
   ]
  },
  {
   "cell_type": "code",
   "execution_count": 16,
   "metadata": {},
   "outputs": [
    {
     "data": {
      "text/html": [
       "<div>\n",
       "<style scoped>\n",
       "    .dataframe tbody tr th:only-of-type {\n",
       "        vertical-align: middle;\n",
       "    }\n",
       "\n",
       "    .dataframe tbody tr th {\n",
       "        vertical-align: top;\n",
       "    }\n",
       "\n",
       "    .dataframe thead th {\n",
       "        text-align: right;\n",
       "    }\n",
       "</style>\n",
       "<table border=\"1\" class=\"dataframe\">\n",
       "  <thead>\n",
       "    <tr style=\"text-align: right;\">\n",
       "      <th></th>\n",
       "      <th>THCIC_ID</th>\n",
       "      <th>PROVIDER_NAME</th>\n",
       "      <th>FAC_TEACHING_IND</th>\n",
       "      <th>FAC_PSYCH_IND</th>\n",
       "      <th>FAC_REHAB_IND</th>\n",
       "      <th>FAC_ACUTE_CARE_IND</th>\n",
       "      <th>FAC_SNF_IND</th>\n",
       "      <th>FAC_LONG_TERM_AC_IND</th>\n",
       "      <th>FAC_OTHER_LTC_IND</th>\n",
       "      <th>FAC_PEDS_IND</th>\n",
       "    </tr>\n",
       "  </thead>\n",
       "  <tbody>\n",
       "    <tr>\n",
       "      <th>347</th>\n",
       "      <td>724900</td>\n",
       "      <td>Brownsville Doctors Hospital</td>\n",
       "      <td>0</td>\n",
       "      <td>0</td>\n",
       "      <td>0</td>\n",
       "      <td>X</td>\n",
       "      <td>0</td>\n",
       "      <td>0</td>\n",
       "      <td>0</td>\n",
       "      <td>X</td>\n",
       "    </tr>\n",
       "    <tr>\n",
       "      <th>499</th>\n",
       "      <td>854000</td>\n",
       "      <td>Twin Creeks Hospital</td>\n",
       "      <td>0</td>\n",
       "      <td>0</td>\n",
       "      <td>X</td>\n",
       "      <td>0</td>\n",
       "      <td>0</td>\n",
       "      <td>0</td>\n",
       "      <td>0</td>\n",
       "      <td>0</td>\n",
       "    </tr>\n",
       "    <tr>\n",
       "      <th>531</th>\n",
       "      <td>907000</td>\n",
       "      <td>Renaissance Hospital-Groves</td>\n",
       "      <td>0</td>\n",
       "      <td>0</td>\n",
       "      <td>0</td>\n",
       "      <td>X</td>\n",
       "      <td>0</td>\n",
       "      <td>0</td>\n",
       "      <td>0</td>\n",
       "      <td>0</td>\n",
       "    </tr>\n",
       "    <tr>\n",
       "      <th>544</th>\n",
       "      <td>939000</td>\n",
       "      <td>GlobalRehab Hospital-San Antonio</td>\n",
       "      <td>0</td>\n",
       "      <td>0</td>\n",
       "      <td>X</td>\n",
       "      <td>0</td>\n",
       "      <td>0</td>\n",
       "      <td>0</td>\n",
       "      <td>0</td>\n",
       "      <td>0</td>\n",
       "    </tr>\n",
       "    <tr>\n",
       "      <th>983</th>\n",
       "      <td>798500</td>\n",
       "      <td>Austin Surgical Hospital</td>\n",
       "      <td>0</td>\n",
       "      <td>0</td>\n",
       "      <td>0</td>\n",
       "      <td>0</td>\n",
       "      <td>0</td>\n",
       "      <td>0</td>\n",
       "      <td>0</td>\n",
       "      <td>X</td>\n",
       "    </tr>\n",
       "  </tbody>\n",
       "</table>\n",
       "</div>"
      ],
      "text/plain": [
       "     THCIC_ID                     PROVIDER_NAME FAC_TEACHING_IND  \\\n",
       "347    724900      Brownsville Doctors Hospital                0   \n",
       "499    854000              Twin Creeks Hospital                0   \n",
       "531    907000       Renaissance Hospital-Groves                0   \n",
       "544    939000  GlobalRehab Hospital-San Antonio                0   \n",
       "983    798500          Austin Surgical Hospital                0   \n",
       "\n",
       "    FAC_PSYCH_IND FAC_REHAB_IND FAC_ACUTE_CARE_IND FAC_SNF_IND  \\\n",
       "347             0             0                  X           0   \n",
       "499             0             X                  0           0   \n",
       "531             0             0                  X           0   \n",
       "544             0             X                  0           0   \n",
       "983             0             0                  0           0   \n",
       "\n",
       "    FAC_LONG_TERM_AC_IND FAC_OTHER_LTC_IND FAC_PEDS_IND  \n",
       "347                    0                 0            X  \n",
       "499                    0                 0            0  \n",
       "531                    0                 0            0  \n",
       "544                    0                 0            0  \n",
       "983                    0                 0            X  "
      ]
     },
     "metadata": {},
     "output_type": "display_data"
    },
    {
     "data": {
      "text/plain": [
       "(597, 10)"
      ]
     },
     "metadata": {},
     "output_type": "display_data"
    }
   ],
   "source": [
    "# Second clean: drop duplicates\n",
    "df_facility.drop_duplicates(subset=\"THCIC_ID\", keep=\"last\", inplace=True)\n",
    "display(df_facility.head())\n",
    "display(df_facility.shape)"
   ]
  },
  {
   "cell_type": "code",
   "execution_count": 17,
   "metadata": {},
   "outputs": [],
   "source": [
    "# Third clean: binarize row values\n",
    "def binarize(txt):\n",
    "    bin_swap = {\"0\":0, \"A\":1, \"C\":1, \"X\":1, \"x\":1}\n",
    "    return int(txt.replace(txt, str(bin_swap[txt])))\n",
    "    \n",
    "for col in df_facility.columns[2:]:\n",
    "    df_facility[col] = df_facility[col].apply(lambda txt: binarize(str(txt))) "
   ]
  },
  {
   "cell_type": "code",
   "execution_count": 18,
   "metadata": {},
   "outputs": [
    {
     "data": {
      "text/html": [
       "<div>\n",
       "<style scoped>\n",
       "    .dataframe tbody tr th:only-of-type {\n",
       "        vertical-align: middle;\n",
       "    }\n",
       "\n",
       "    .dataframe tbody tr th {\n",
       "        vertical-align: top;\n",
       "    }\n",
       "\n",
       "    .dataframe thead th {\n",
       "        text-align: right;\n",
       "    }\n",
       "</style>\n",
       "<table border=\"1\" class=\"dataframe\">\n",
       "  <thead>\n",
       "    <tr style=\"text-align: right;\">\n",
       "      <th></th>\n",
       "      <th>THCIC_ID</th>\n",
       "      <th>PROVIDER_NAME</th>\n",
       "      <th>FAC_TEACHING_IND</th>\n",
       "      <th>FAC_PSYCH_IND</th>\n",
       "      <th>FAC_REHAB_IND</th>\n",
       "      <th>FAC_ACUTE_CARE_IND</th>\n",
       "      <th>FAC_SNF_IND</th>\n",
       "      <th>FAC_LONG_TERM_AC_IND</th>\n",
       "      <th>FAC_OTHER_LTC_IND</th>\n",
       "      <th>FAC_PEDS_IND</th>\n",
       "    </tr>\n",
       "  </thead>\n",
       "  <tbody>\n",
       "    <tr>\n",
       "      <th>347</th>\n",
       "      <td>724900</td>\n",
       "      <td>Brownsville Doctors Hospital</td>\n",
       "      <td>0</td>\n",
       "      <td>0</td>\n",
       "      <td>0</td>\n",
       "      <td>1</td>\n",
       "      <td>0</td>\n",
       "      <td>0</td>\n",
       "      <td>0</td>\n",
       "      <td>1</td>\n",
       "    </tr>\n",
       "    <tr>\n",
       "      <th>499</th>\n",
       "      <td>854000</td>\n",
       "      <td>Twin Creeks Hospital</td>\n",
       "      <td>0</td>\n",
       "      <td>0</td>\n",
       "      <td>1</td>\n",
       "      <td>0</td>\n",
       "      <td>0</td>\n",
       "      <td>0</td>\n",
       "      <td>0</td>\n",
       "      <td>0</td>\n",
       "    </tr>\n",
       "    <tr>\n",
       "      <th>531</th>\n",
       "      <td>907000</td>\n",
       "      <td>Renaissance Hospital-Groves</td>\n",
       "      <td>0</td>\n",
       "      <td>0</td>\n",
       "      <td>0</td>\n",
       "      <td>1</td>\n",
       "      <td>0</td>\n",
       "      <td>0</td>\n",
       "      <td>0</td>\n",
       "      <td>0</td>\n",
       "    </tr>\n",
       "    <tr>\n",
       "      <th>544</th>\n",
       "      <td>939000</td>\n",
       "      <td>GlobalRehab Hospital-San Antonio</td>\n",
       "      <td>0</td>\n",
       "      <td>0</td>\n",
       "      <td>1</td>\n",
       "      <td>0</td>\n",
       "      <td>0</td>\n",
       "      <td>0</td>\n",
       "      <td>0</td>\n",
       "      <td>0</td>\n",
       "    </tr>\n",
       "    <tr>\n",
       "      <th>983</th>\n",
       "      <td>798500</td>\n",
       "      <td>Austin Surgical Hospital</td>\n",
       "      <td>0</td>\n",
       "      <td>0</td>\n",
       "      <td>0</td>\n",
       "      <td>0</td>\n",
       "      <td>0</td>\n",
       "      <td>0</td>\n",
       "      <td>0</td>\n",
       "      <td>1</td>\n",
       "    </tr>\n",
       "  </tbody>\n",
       "</table>\n",
       "</div>"
      ],
      "text/plain": [
       "     THCIC_ID                     PROVIDER_NAME  FAC_TEACHING_IND  \\\n",
       "347    724900      Brownsville Doctors Hospital                 0   \n",
       "499    854000              Twin Creeks Hospital                 0   \n",
       "531    907000       Renaissance Hospital-Groves                 0   \n",
       "544    939000  GlobalRehab Hospital-San Antonio                 0   \n",
       "983    798500          Austin Surgical Hospital                 0   \n",
       "\n",
       "     FAC_PSYCH_IND  FAC_REHAB_IND  FAC_ACUTE_CARE_IND  FAC_SNF_IND  \\\n",
       "347              0              0                   1            0   \n",
       "499              0              1                   0            0   \n",
       "531              0              0                   1            0   \n",
       "544              0              1                   0            0   \n",
       "983              0              0                   0            0   \n",
       "\n",
       "     FAC_LONG_TERM_AC_IND  FAC_OTHER_LTC_IND  FAC_PEDS_IND  \n",
       "347                     0                  0             1  \n",
       "499                     0                  0             0  \n",
       "531                     0                  0             0  \n",
       "544                     0                  0             0  \n",
       "983                     0                  0             1  "
      ]
     },
     "execution_count": 18,
     "metadata": {},
     "output_type": "execute_result"
    }
   ],
   "source": [
    "# save cleaned facility dataset\n",
    "df_facility.to_csv(\"data/facility.csv\", index=False)\n",
    "df_facility.head()"
   ]
  },
  {
   "cell_type": "code",
   "execution_count": null,
   "metadata": {},
   "outputs": [],
   "source": []
  }
 ],
 "metadata": {
  "kernelspec": {
   "display_name": "Python 3",
   "language": "python",
   "name": "python3"
  },
  "language_info": {
   "codemirror_mode": {
    "name": "ipython",
    "version": 3
   },
   "file_extension": ".py",
   "mimetype": "text/x-python",
   "name": "python",
   "nbconvert_exporter": "python",
   "pygments_lexer": "ipython3",
   "version": "3.7.7"
  }
 },
 "nbformat": 4,
 "nbformat_minor": 4
}
