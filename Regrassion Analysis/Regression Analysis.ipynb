{
 "cells": [
  {
   "cell_type": "markdown",
   "metadata": {},
   "source": [
    "The\tfile\tcontains\ta\tsubset\tof\t“Auto\tMPG\tData\tSet”\tavailable\tfrom\tthe\tUCI\tMachine\t Learning\t Repository. As\t part\t of\t this\t you\t are\t required\t to\t 1\n",
    "build\t a\t predictor\t for\t the\t MPG\t Cield\t that\t records\t fuel\t efCiciency\t of\t various\tmotor\t vehicles.\tAlongside\tmpg,\t the\t following\tinformation\tis\trecorded:\t\n",
    "1. cylinders:\tcategorical\t\n",
    "2. displacement:\tnumeric\t\n",
    "3. horsepower:\tnumeric\t\n",
    "4. weight:\tnumeric\t\n",
    "5. acceleration:\tnumeric\t\n",
    "6. model\tyear:\tcategorical\t\n",
    "7. origin:\tcategorical\t\n",
    "8. car\tname:\tstring\t(unique\tfor\teach\tinstance)\t\t"
   ]
  },
  {
   "cell_type": "code",
   "execution_count": null,
   "metadata": {},
   "outputs": [],
   "source": [
    "# Importing Libraries\n",
    "import pandas as pd\n",
    "import numpy as np\n",
    "import matplotlib.pyplot as plt"
   ]
  }
 ],
 "metadata": {
  "kernelspec": {
   "display_name": "Python 3",
   "language": "python",
   "name": "python3"
  },
  "language_info": {
   "codemirror_mode": {
    "name": "ipython",
    "version": 3
   },
   "file_extension": ".py",
   "mimetype": "text/x-python",
   "name": "python",
   "nbconvert_exporter": "python",
   "pygments_lexer": "ipython3",
   "version": "3.7.4"
  }
 },
 "nbformat": 4,
 "nbformat_minor": 2
}
