{
 "cells": [
  {
   "cell_type": "code",
   "execution_count": 3,
   "metadata": {},
   "outputs": [],
   "source": [
    "# Importing Libraries\n",
    "import pandas as pd\n",
    "import numpy as np\n",
    "import matplotlib.pyplot as plt"
   ]
  },
  {
   "cell_type": "code",
   "execution_count": 43,
   "metadata": {},
   "outputs": [
    {
     "data": {
      "text/plain": [
       "Index(['Unnamed: 0', 'mpg', 'cylinders', 'displacement', 'horsepower',\n",
       "       'weight', 'acceleration', 'model year', 'origin', 'car name'],\n",
       "      dtype='object')"
      ]
     },
     "execution_count": 43,
     "metadata": {},
     "output_type": "execute_result"
    }
   ],
   "source": [
    "df = pd.read_csv(\"BSCY4_Lab_2.csv\")\n",
    "df.columns"
   ]
  },
  {
   "cell_type": "code",
   "execution_count": 30,
   "metadata": {},
   "outputs": [
    {
     "data": {
      "text/plain": [
       "mpg   car name                \n",
       "24.0  toyota corona               1\n",
       "27.0  toyota corolla 1600 (sw)    1\n",
       "32.0  toyota corolla 1200         1\n",
       "dtype: int64"
      ]
     },
     "execution_count": 30,
     "metadata": {},
     "output_type": "execute_result"
    }
   ],
   "source": [
    "df.groupby(by=['mpg', 'car name']).size().sample(3)"
   ]
  },
  {
   "cell_type": "code",
   "execution_count": 37,
   "metadata": {},
   "outputs": [
    {
     "data": {
      "text/plain": [
       "<matplotlib.axes._subplots.AxesSubplot at 0x115d68ed0>"
      ]
     },
     "execution_count": 37,
     "metadata": {},
     "output_type": "execute_result"
    },
    {
     "data": {
      "image/png": "[encoded data removed]",
      "text/plain": [
       "<Figure size 432x288 with 1 Axes>"
      ]
     },
     "metadata": {
      "needs_background": "light"
     },
     "output_type": "display_data"
    }
   ],
   "source": [
    "df.plot.scatter(x='horsepower', y='mpg')"
   ]
  },
  {
   "cell_type": "code",
   "execution_count": 47,
   "metadata": {},
   "outputs": [
    {
     "data": {
      "text/plain": [
       "<matplotlib.axes._subplots.AxesSubplot at 0x1151828d0>"
      ]
     },
     "execution_count": 47,
     "metadata": {},
     "output_type": "execute_result"
    },
    {
     "data": {
      "image/png": "[encoded data removed]",
      "text/plain": [
       "<Figure size 432x288 with 1 Axes>"
      ]
     },
     "metadata": {
      "needs_background": "light"
     },
     "output_type": "display_data"
    }
   ],
   "source": [
    "df.plot.hist(stacked='mpg',alpha=0.5)"
   ]
  },
  {
   "cell_type": "code",
   "execution_count": 48,
   "metadata": {},
   "outputs": [
    {
     "data": {
      "text/html": [
       "<div>\n",
       "<style scoped>\n",
       "    .dataframe tbody tr th:only-of-type {\n",
       "        vertical-align: middle;\n",
       "    }\n",
       "\n",
       "    .dataframe tbody tr th {\n",
       "        vertical-align: top;\n",
       "    }\n",
       "\n",
       "    .dataframe thead th {\n",
       "        text-align: right;\n",
       "    }\n",
       "</style>\n",
       "<table border=\"1\" class=\"dataframe\">\n",
       "  <thead>\n",
       "    <tr style=\"text-align: right;\">\n",
       "      <th></th>\n",
       "      <th>Unnamed: 0</th>\n",
       "      <th>mpg</th>\n",
       "      <th>cylinders</th>\n",
       "      <th>displacement</th>\n",
       "      <th>horsepower</th>\n",
       "      <th>weight</th>\n",
       "      <th>acceleration</th>\n",
       "      <th>model year</th>\n",
       "      <th>origin</th>\n",
       "    </tr>\n",
       "  </thead>\n",
       "  <tbody>\n",
       "    <tr>\n",
       "      <td>count</td>\n",
       "      <td>79.000000</td>\n",
       "      <td>79.000000</td>\n",
       "      <td>79.000000</td>\n",
       "      <td>79.000000</td>\n",
       "      <td>79.000000</td>\n",
       "      <td>79.000000</td>\n",
       "      <td>79.000000</td>\n",
       "      <td>79.000000</td>\n",
       "      <td>79.0</td>\n",
       "    </tr>\n",
       "    <tr>\n",
       "      <td>mean</td>\n",
       "      <td>242.240506</td>\n",
       "      <td>30.450633</td>\n",
       "      <td>4.101266</td>\n",
       "      <td>102.708861</td>\n",
       "      <td>79.835443</td>\n",
       "      <td>2221.227848</td>\n",
       "      <td>16.172152</td>\n",
       "      <td>77.443038</td>\n",
       "      <td>3.0</td>\n",
       "    </tr>\n",
       "    <tr>\n",
       "      <td>std</td>\n",
       "      <td>110.597238</td>\n",
       "      <td>6.090048</td>\n",
       "      <td>0.590414</td>\n",
       "      <td>23.140126</td>\n",
       "      <td>17.819199</td>\n",
       "      <td>320.497248</td>\n",
       "      <td>1.954937</td>\n",
       "      <td>3.650595</td>\n",
       "      <td>0.0</td>\n",
       "    </tr>\n",
       "    <tr>\n",
       "      <td>min</td>\n",
       "      <td>14.000000</td>\n",
       "      <td>18.000000</td>\n",
       "      <td>3.000000</td>\n",
       "      <td>70.000000</td>\n",
       "      <td>52.000000</td>\n",
       "      <td>1613.000000</td>\n",
       "      <td>11.400000</td>\n",
       "      <td>70.000000</td>\n",
       "      <td>3.0</td>\n",
       "    </tr>\n",
       "    <tr>\n",
       "      <td>25%</td>\n",
       "      <td>147.500000</td>\n",
       "      <td>25.700000</td>\n",
       "      <td>4.000000</td>\n",
       "      <td>86.000000</td>\n",
       "      <td>67.000000</td>\n",
       "      <td>1985.000000</td>\n",
       "      <td>14.600000</td>\n",
       "      <td>74.000000</td>\n",
       "      <td>3.0</td>\n",
       "    </tr>\n",
       "    <tr>\n",
       "      <td>50%</td>\n",
       "      <td>266.000000</td>\n",
       "      <td>31.600000</td>\n",
       "      <td>4.000000</td>\n",
       "      <td>97.000000</td>\n",
       "      <td>75.000000</td>\n",
       "      <td>2155.000000</td>\n",
       "      <td>16.400000</td>\n",
       "      <td>78.000000</td>\n",
       "      <td>3.0</td>\n",
       "    </tr>\n",
       "    <tr>\n",
       "      <td>75%</td>\n",
       "      <td>340.000000</td>\n",
       "      <td>34.050000</td>\n",
       "      <td>4.000000</td>\n",
       "      <td>119.000000</td>\n",
       "      <td>95.000000</td>\n",
       "      <td>2412.500000</td>\n",
       "      <td>17.550000</td>\n",
       "      <td>81.000000</td>\n",
       "      <td>3.0</td>\n",
       "    </tr>\n",
       "    <tr>\n",
       "      <td>max</td>\n",
       "      <td>384.000000</td>\n",
       "      <td>46.600000</td>\n",
       "      <td>6.000000</td>\n",
       "      <td>168.000000</td>\n",
       "      <td>132.000000</td>\n",
       "      <td>2930.000000</td>\n",
       "      <td>21.000000</td>\n",
       "      <td>82.000000</td>\n",
       "      <td>3.0</td>\n",
       "    </tr>\n",
       "  </tbody>\n",
       "</table>\n",
       "</div>"
      ],
      "text/plain": [
       "       Unnamed: 0        mpg  cylinders  displacement  horsepower  \\\n",
       "count   79.000000  79.000000  79.000000     79.000000   79.000000   \n",
       "mean   242.240506  30.450633   4.101266    102.708861   79.835443   \n",
       "std    110.597238   6.090048   0.590414     23.140126   17.819199   \n",
       "min     14.000000  18.000000   3.000000     70.000000   52.000000   \n",
       "25%    147.500000  25.700000   4.000000     86.000000   67.000000   \n",
       "50%    266.000000  31.600000   4.000000     97.000000   75.000000   \n",
       "75%    340.000000  34.050000   4.000000    119.000000   95.000000   \n",
       "max    384.000000  46.600000   6.000000    168.000000  132.000000   \n",
       "\n",
       "            weight  acceleration  model year  origin  \n",
       "count    79.000000     79.000000   79.000000    79.0  \n",
       "mean   2221.227848     16.172152   77.443038     3.0  \n",
       "std     320.497248      1.954937    3.650595     0.0  \n",
       "min    1613.000000     11.400000   70.000000     3.0  \n",
       "25%    1985.000000     14.600000   74.000000     3.0  \n",
       "50%    2155.000000     16.400000   78.000000     3.0  \n",
       "75%    2412.500000     17.550000   81.000000     3.0  \n",
       "max    2930.000000     21.000000   82.000000     3.0  "
      ]
     },
     "execution_count": 48,
     "metadata": {},
     "output_type": "execute_result"
    }
   ],
   "source": [
    "df.describe()"
   ]
  },
  {
   "cell_type": "code",
   "execution_count": 53,
   "metadata": {},
   "outputs": [
    {
     "data": {
      "text/plain": [
       "<bound method DataFrame.skew of     Unnamed: 0   mpg  cylinders  displacement  horsepower  weight  \\\n",
       "0           14  24.0          4         113.0          95    2372   \n",
       "1           18  27.0          4          97.0          88    2130   \n",
       "2           29  27.0          4          97.0          88    2130   \n",
       "3           31  25.0          4         113.0          95    2228   \n",
       "4           52  31.0          4          71.0          65    1773   \n",
       "..         ...   ...        ...           ...         ...     ...   \n",
       "74         376  34.0          4         108.0          70    2245   \n",
       "75         377  38.0          4          91.0          67    1965   \n",
       "76         378  32.0          4          91.0          67    1965   \n",
       "77         379  38.0          4          91.0          67    1995   \n",
       "78         384  32.0          4         144.0          96    2665   \n",
       "\n",
       "    acceleration  model year  origin               car name  \n",
       "0           15.0          70       3  toyota corona mark ii  \n",
       "1           14.5          70       3           datsun pl510  \n",
       "2           14.5          71       3           datsun pl510  \n",
       "3           14.0          71       3          toyota corona  \n",
       "4           19.0          71       3    toyota corolla 1200  \n",
       "..           ...         ...     ...                    ...  \n",
       "74          16.9          82       3         toyota corolla  \n",
       "75          15.0          82       3            honda civic  \n",
       "76          15.7          82       3     honda civic (auto)  \n",
       "77          16.2          82       3          datsun 310 gx  \n",
       "78          13.9          82       3       toyota celica gt  \n",
       "\n",
       "[79 rows x 10 columns]>"
      ]
     },
     "execution_count": 53,
     "metadata": {},
     "output_type": "execute_result"
    }
   ],
   "source": [
    "df.skew"
   ]
  },
  {
   "cell_type": "code",
   "execution_count": 8,
   "metadata": {},
   "outputs": [
    {
     "data": {
      "text/plain": [
       "array([[24. ,  3. ],\n",
       "       [27. ,  3. ],\n",
       "       [27. ,  3. ],\n",
       "       [25. ,  3. ],\n",
       "       [31. ,  3. ],\n",
       "       [35. ,  3. ],\n",
       "       [24. ,  3. ],\n",
       "       [19. ,  3. ],\n",
       "       [28. ,  3. ],\n",
       "       [23. ,  3. ],\n",
       "       [27. ,  3. ],\n",
       "       [20. ,  3. ],\n",
       "       [22. ,  3. ],\n",
       "       [18. ,  3. ],\n",
       "       [20. ,  3. ],\n",
       "       [31. ,  3. ],\n",
       "       [32. ,  3. ],\n",
       "       [31. ,  3. ],\n",
       "       [32. ,  3. ],\n",
       "       [24. ,  3. ],\n",
       "       [26. ,  3. ],\n",
       "       [29. ,  3. ],\n",
       "       [24. ,  3. ],\n",
       "       [24. ,  3. ],\n",
       "       [33. ,  3. ],\n",
       "       [33. ,  3. ],\n",
       "       [32. ,  3. ],\n",
       "       [28. ,  3. ],\n",
       "       [19. ,  3. ],\n",
       "       [31.5,  3. ],\n",
       "       [33.5,  3. ],\n",
       "       [26. ,  3. ],\n",
       "       [30. ,  3. ],\n",
       "       [22. ,  3. ],\n",
       "       [21.5,  3. ],\n",
       "       [32.8,  3. ],\n",
       "       [39.4,  3. ],\n",
       "       [36.1,  3. ],\n",
       "       [27.5,  3. ],\n",
       "       [27.2,  3. ],\n",
       "       [21.1,  3. ],\n",
       "       [23.9,  3. ],\n",
       "       [29.5,  3. ],\n",
       "       [34.1,  3. ],\n",
       "       [31.8,  3. ],\n",
       "       [38.1,  3. ],\n",
       "       [37.2,  3. ],\n",
       "       [29.8,  3. ],\n",
       "       [31.3,  3. ],\n",
       "       [37. ,  3. ],\n",
       "       [32.2,  3. ],\n",
       "       [46.6,  3. ],\n",
       "       [40.8,  3. ],\n",
       "       [44.6,  3. ],\n",
       "       [33.8,  3. ],\n",
       "       [32.7,  3. ],\n",
       "       [23.7,  3. ],\n",
       "       [32.4,  3. ],\n",
       "       [39.1,  3. ],\n",
       "       [35.1,  3. ],\n",
       "       [32.3,  3. ],\n",
       "       [37. ,  3. ],\n",
       "       [37.7,  3. ],\n",
       "       [34.1,  3. ],\n",
       "       [33.7,  3. ],\n",
       "       [32.4,  3. ],\n",
       "       [32.9,  3. ],\n",
       "       [31.6,  3. ],\n",
       "       [25.4,  3. ],\n",
       "       [24.2,  3. ],\n",
       "       [37. ,  3. ],\n",
       "       [31. ,  3. ],\n",
       "       [36. ,  3. ],\n",
       "       [36. ,  3. ],\n",
       "       [34. ,  3. ],\n",
       "       [38. ,  3. ],\n",
       "       [32. ,  3. ],\n",
       "       [38. ,  3. ],\n",
       "       [32. ,  3. ]])"
      ]
     },
     "execution_count": 8,
     "metadata": {},
     "output_type": "execute_result"
    }
   ],
   "source": [
    "df = pd.read_csv(\"BSCY4_Lab_2.csv\")\n",
    "X = np.column_stack((df.mpg,df.origin));\n",
    "X"
   ]
  },
  {
   "cell_type": "code",
   "execution_count": null,
   "metadata": {},
   "outputs": [],
   "source": []
  }
 ],
 "metadata": {
  "kernelspec": {
   "display_name": "Python 3",
   "language": "python",
   "name": "python3"
  },
  "language_info": {
   "codemirror_mode": {
    "name": "ipython",
    "version": 3
   },
   "file_extension": ".py",
   "mimetype": "text/x-python",
   "name": "python",
   "nbconvert_exporter": "python",
   "pygments_lexer": "ipython3",
   "version": "3.7.4"
  }
 },
 "nbformat": 4,
 "nbformat_minor": 2
}
