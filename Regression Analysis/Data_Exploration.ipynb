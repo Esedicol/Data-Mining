{
 "cells": [
  {
   "cell_type": "code",
   "execution_count": 99,
   "metadata": {},
   "outputs": [],
   "source": [
    "# Importing Libraries\n",
    "import pandas as pd\n",
    "import numpy as np\n",
    "from scipy import stats\n",
    "import seaborn as sns\n",
    "from scipy.stats import norm\n",
    "from scipy.stats import shapiro\n",
    "import matplotlib.pyplot as plt\n",
    "\n",
    "# Read Data\n",
    "df = pd.read_csv(\"BSCY4.csv\")\n",
    "\n",
    "# P-value\n",
    "alpha = 0.05\n",
    "\n",
    "# Moments\n",
    "skew = mpg.skew()\n",
    "variance = mpg.var()\n",
    "kurt = mpg.kurt()\n",
    "mean = np.mean(mpg)\n",
    "std = np.std(mpg)\n",
    "\n",
    "# Q-Q Plot\n",
    "# stats.probplot(mpg, dist=\"norm\", plot=plt)\n",
    "# plt.show()"
   ]
  },
  {
   "cell_type": "code",
   "execution_count": 164,
   "metadata": {},
   "outputs": [
    {
     "name": "stdout",
     "output_type": "stream",
     "text": [
      "MPG follows a normal distribution\n"
     ]
    },
    {
     "data": {
      "image/png": "[encoded data removed]",
      "text/plain": [
       "<Figure size 432x288 with 1 Axes>"
      ]
     },
     "metadata": {
      "needs_background": "light"
     },
     "output_type": "display_data"
    }
   ],
   "source": [
    "# Question 2: I used the Shapiro-Wilk method to test whether the data of MPG follows a normal distribution.\n",
    "# Based on the result below I have proven that MPG does follows a normal distribution.\n",
    "\n",
    "# Visual representation of MPG\n",
    "sns.distplot(df['mpg'], kde=True, rug=True)\n",
    "\n",
    "# Shapiro-Wilk Test for 'MPG'\n",
    "stat, p = shapiro(df['mpg'])\n",
    "if p > alpha:\n",
    "    print('MPG follows a normal distribution')\n",
    "else:\n",
    "    print('MPG does not follow a normal distribution')"
   ]
  },
  {
   "cell_type": "markdown",
   "metadata": {},
   "source": []
  },
  {
   "cell_type": "code",
   "execution_count": null,
   "metadata": {},
   "outputs": [],
   "source": [
    "\n"
   ]
  },
  {
   "cell_type": "code",
   "execution_count": 156,
   "metadata": {},
   "outputs": [
    {
     "name": "stdout",
     "output_type": "stream",
     "text": [
      "MPG follows a normal distribution\n"
     ]
    }
   ],
   "source": [
    "\n"
   ]
  },
  {
   "cell_type": "code",
   "execution_count": 163,
   "metadata": {},
   "outputs": [
    {
     "name": "stdout",
     "output_type": "stream",
     "text": [
      "MPG follows a normal distribution\n"
     ]
    }
   ],
   "source": []
  },
  {
   "cell_type": "code",
   "execution_count": null,
   "metadata": {},
   "outputs": [],
   "source": []
  }
 ],
 "metadata": {
  "kernelspec": {
   "display_name": "Python 3",
   "language": "python",
   "name": "python3"
  },
  "language_info": {
   "codemirror_mode": {
    "name": "ipython",
    "version": 3
   },
   "file_extension": ".py",
   "mimetype": "text/x-python",
   "name": "python",
   "nbconvert_exporter": "python",
   "pygments_lexer": "ipython3",
   "version": "3.7.4"
  }
 },
 "nbformat": 4,
 "nbformat_minor": 2
}
