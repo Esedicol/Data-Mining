{
 "cells": [
  {
   "cell_type": "markdown",
   "metadata": {},
   "source": [
    "# **Step 1**\n",
    "\n",
    "**Task: Import\tdata\tfrom\t\"BSCY4.csv\"**\n",
    "\n",
    "Import Data from given CSV file using Pandas"
   ]
  },
  {
   "cell_type": "code",
   "execution_count": 2,
   "metadata": {},
   "outputs": [
    {
     "name": "stdout",
     "output_type": "stream",
     "text": [
      "Unnamed: 0      float64\n",
      "Date             object\n",
      "AveragePrice     object\n",
      "Total Volume    float64\n",
      "4046            float64\n",
      "4225            float64\n",
      "4770            float64\n",
      "Total Bags      float64\n",
      "Small Bags      float64\n",
      "Large Bags      float64\n",
      "XLarge Bags     float64\n",
      "type             object\n",
      "year            float64\n",
      "region           object\n",
      "dtype: object\n"
     ]
    }
   ],
   "source": [
    "import numpy as np \n",
    "import pandas as pd\n",
    "\n",
    "data = pd.read_csv('BSCY4.csv')\n",
    "print(data.dtypes)\n"
   ]
  },
  {
   "cell_type": "markdown",
   "metadata": {},
   "source": [
    "# **Step 2**\n",
    "\n",
    "**Task: Cleanse\tinformation\tin\tthe\t\"date\".\tDo\tall\trows\tfollow\tthe\t\n",
    "same\t format\twhen\tit\tcomes\tto\t\"date\"? What\t formats\tare\tthere\t\n",
    "and\thow\tmany\tentries\tper\teach\tformat?**\n",
    "\n",
    "Based on the output data below we can see that the column 'Date' has three formats\n",
    "\n",
    "1) day - month - year is taken from the column 'year' <br>\n",
    "2) year - month - day <br>\n",
    "3) day - month - year <br>\n"
   ]
  },
  {
   "cell_type": "code",
   "execution_count": 42,
   "metadata": {},
   "outputs": [
    {
     "data": {
      "text/plain": [
       "Date        year  \n",
       "05/02       2017.0     1\n",
       "18/01       2015.0     1\n",
       "29-10-2017  2017.0     1\n",
       "2015-11-29  2015.0    52\n",
       "14/05       2017.0     1\n",
       "dtype: int64"
      ]
     },
     "execution_count": 42,
     "metadata": {},
     "output_type": "execute_result"
    }
   ],
   "source": [
    "data.groupby(by=['Date','year']).size().sample(5)"
   ]
  },
  {
   "cell_type": "markdown",
   "metadata": {},
   "source": [
    "Now we change the column 'Date'type into 'datetime' so we can change its format into the following format (%d-%m-%Y)."
   ]
  },
  {
   "cell_type": "code",
   "execution_count": 43,
   "metadata": {},
   "outputs": [],
   "source": [
    "# Because not all items have the format %d-%m-%Y it will throw an error.\n",
    "# So we will force the action and make the wrongly formated into NaN\n",
    "\n",
    "newDate = pd.to_datetime(data['Date'], format=\"%d-%m-%Y\", errors='coerce')"
   ]
  },
  {
   "cell_type": "code",
   "execution_count": 44,
   "metadata": {},
   "outputs": [],
   "source": [
    "# The function below will switch the first(%Y) and last(%d)\n",
    "def switch(input):\n",
    "\n",
    "    input[0], input[-1] = input[-1], input[0]\n",
    "\n",
    "    newDate = '-'.join(input)\n",
    "    return newDate\n",
    "    "
   ]
  },
  {
   "cell_type": "code",
   "execution_count": 45,
   "metadata": {},
   "outputs": [],
   "source": [
    "# With the function above we only have one worngly formated date (%d-%m).\n",
    "# The function below will get the year from the corresponding column 'year' and reformat it\n",
    "\n",
    "\n",
    "def getYear(input, index):\n",
    "    # get year \n",
    "    year = data['year'][index]\n",
    "    \n",
    "    # since objects in year has the '.0' at the end, we will remove it to make it look cleaner\n",
    "    input.append(str(year).rstrip('0').rstrip('.'))\n",
    "    \n",
    "    return input\n"
   ]
  },
  {
   "cell_type": "code",
   "execution_count": 46,
   "metadata": {},
   "outputs": [
    {
     "data": {
      "text/plain": [
       "0    14-01-2018\n",
       "1    07-01-2018\n",
       "2    27-12-2015\n",
       "3    20-12-2015\n",
       "4    13-12-2015\n",
       "Name: Date, dtype: object"
      ]
     },
     "execution_count": 46,
     "metadata": {},
     "output_type": "execute_result"
    }
   ],
   "source": [
    "# we will get the index of all the NaN values\n",
    "index = data[newDate.isnull() == True].index\n",
    "\n",
    "# create a new column to insert formated values into\n",
    "data['fValue'] = ''\n",
    "\n",
    "# lop through the indexes\n",
    "for i in index:\n",
    "    \n",
    "    # retrieve the value from 'Date'\n",
    "    xDate = data['Date'][i]\n",
    "    \n",
    "    # remove '-' using split method and gain access to each value\n",
    "    s = xDate.split('-')\n",
    "    \n",
    "    # if the lenght of value is not equals to 3 it is the value of format (%d-%m)\n",
    "    if len(s) == 3:\n",
    "        data.at[i, 'fValue'] = switch(s)\n",
    "        \n",
    "    # if the lenght of value is not equals to 3 it is the value of format (%d-%m)\n",
    "    elif len(s) != 3:\n",
    "        \n",
    "        s2 = xDate.split('/')\n",
    "        newS2 = '-'.join(getYear(s2, i))\n",
    "        data.at[i, 'fValue'] = newS2    \n",
    "\n",
    "# replace data['Date'] with newDate\n",
    "data['Date'] = newDate\n",
    "\n",
    "# fill the null values with the new column we created earlier called 'fValue'\n",
    "data['Date'] = data['Date'].fillna(data['fValue'])\n",
    "\n",
    "# Drop the 'fValue' as we dont need it anymore\n",
    "data.drop('fValue', axis=1, inplace=True)\n",
    "\n",
    "data['Date'].head()\n"
   ]
  },
  {
   "cell_type": "markdown",
   "metadata": {},
   "source": [
    "# **Step 3**\n",
    "\n",
    "**Task: Cleanse\t the\t data\tin\t the\t field\t \"type\".\tHow\tmany\t genuine\t\n",
    "categories\t are\t present?\t Do\t you\t see\t problems\t with\t how\t the\t\n",
    "categories\t represented?\t How\t many\t entries\t have\t errors?**\n",
    "\n",
    "- The column 'type' contains 2 genuine categories called 'conventional' and 'organic'. <br>\n"
   ]
  },
  {
   "cell_type": "code",
   "execution_count": 47,
   "metadata": {},
   "outputs": [
    {
     "data": {
      "text/plain": [
       "169"
      ]
     },
     "execution_count": 47,
     "metadata": {},
     "output_type": "execute_result"
    }
   ],
   "source": [
    "# The issue on this column are the values 'Org.'\n",
    "# The column 'type' has a total of 169 'Org.' values\n",
    "\n",
    "data['type'].astype(str).str.contains('Org.').sum()"
   ]
  },
  {
   "cell_type": "code",
   "execution_count": 48,
   "metadata": {},
   "outputs": [
    {
     "data": {
      "text/plain": [
       "0"
      ]
     },
     "execution_count": 48,
     "metadata": {},
     "output_type": "execute_result"
    }
   ],
   "source": [
    "# We will now replace all of the 'Org.' into 'organic'\n",
    "data['type'] = data['type'].astype(str).str.replace('Org.','organic')\n",
    "data['type'] = data['type'].astype('category')\n",
    "\n",
    "# Check if method\n",
    "data['type'].astype(str).str.contains('Org.').sum()\n"
   ]
  },
  {
   "cell_type": "markdown",
   "metadata": {},
   "source": [
    "# **Step 4**\n",
    "\n",
    "**Task: Cleanse\t the\t content\t of\t the\t field\t \"average\t price\".\t How many\t genuine\t missing\t values\t are\t there?\t How\t many\t entries have\terroneous\tstring-based\trepresentation.**\n",
    "\n",
    "- The column 'Average Price' are of type float meaning it contains a dot ie. '12.2' <br>\n",
    "- The error on this column is that some value have commas instead of a dot. <br>\n",
    "- Another error is that the columns contains NaN\n"
   ]
  },
  {
   "cell_type": "code",
   "execution_count": 49,
   "metadata": {},
   "outputs": [
    {
     "data": {
      "text/plain": [
       "30"
      ]
     },
     "execution_count": 49,
     "metadata": {},
     "output_type": "execute_result"
    }
   ],
   "source": [
    "# Total Number of values that uses acomma in column 'Average Price' \n",
    "data['AveragePrice'].astype(str).str.contains(',').sum()"
   ]
  },
  {
   "cell_type": "code",
   "execution_count": 50,
   "metadata": {},
   "outputs": [
    {
     "data": {
      "text/plain": [
       "20"
      ]
     },
     "execution_count": 50,
     "metadata": {},
     "output_type": "execute_result"
    }
   ],
   "source": [
    "# Total Number of NaN in column 'Average Price' \n",
    "data['AveragePrice'].isna().sum()"
   ]
  },
  {
   "cell_type": "code",
   "execution_count": 51,
   "metadata": {},
   "outputs": [
    {
     "data": {
      "text/plain": [
       "0"
      ]
     },
     "execution_count": 51,
     "metadata": {},
     "output_type": "execute_result"
    }
   ],
   "source": [
    "# To cleanse the column we change all commas into dots\n",
    "data['AveragePrice'] = data['AveragePrice'].astype(str).str.replace(',','.')\n",
    "\n",
    "# we double check if method above works\n",
    "data['AveragePrice'].astype(str).str.contains(',').sum()\n"
   ]
  },
  {
   "cell_type": "code",
   "execution_count": 52,
   "metadata": {},
   "outputs": [
    {
     "data": {
      "text/plain": [
       "0"
      ]
     },
     "execution_count": 52,
     "metadata": {},
     "output_type": "execute_result"
    }
   ],
   "source": [
    "# we will also replace all the NaN into 0 so that it is more appropriate rathar than leaving it as NaN\n",
    "data['AveragePrice'] = data['AveragePrice'].astype(str).str.replace('nan','0')\n",
    "\n",
    "# Dobule check that method above works\n",
    "data['AveragePrice'].astype(str).str.contains('nan').sum()\n"
   ]
  },
  {
   "cell_type": "code",
   "execution_count": 56,
   "metadata": {},
   "outputs": [
    {
     "data": {
      "text/plain": [
       "Unnamed: 0             float64\n",
       "Date            datetime64[ns]\n",
       "AveragePrice           float64\n",
       "Total Volume           float64\n",
       "4046                   float64\n",
       "4225                   float64\n",
       "4770                   float64\n",
       "Total Bags             float64\n",
       "Small Bags             float64\n",
       "Large Bags             float64\n",
       "XLarge Bags            float64\n",
       "type                  category\n",
       "year                   float64\n",
       "region                  object\n",
       "dtype: object"
      ]
     },
     "execution_count": 56,
     "metadata": {},
     "output_type": "execute_result"
    }
   ],
   "source": [
    "# Change Type\n",
    "data['AveragePrice'] = data['AveragePrice'].astype(np.float) \n",
    "\n",
    "# Cahnge type to DateTime\n",
    "data['Date'] = pd.to_datetime(data['Date'])\n",
    "\n",
    "data.dtypes"
   ]
  },
  {
   "cell_type": "code",
   "execution_count": 55,
   "metadata": {},
   "outputs": [],
   "source": [
    "# Now we will export the 'sqlDataFrame' as a CSV file to be used on Data Consolidation \n",
    "csv = data.to_csv('BSCY4_csv.csv')\n"
   ]
  }
 ],
 "metadata": {
  "kernelspec": {
   "display_name": "Python 3",
   "language": "python",
   "name": "python3"
  },
  "language_info": {
   "codemirror_mode": {
    "name": "ipython",
    "version": 3
   },
   "file_extension": ".py",
   "mimetype": "text/x-python",
   "name": "python",
   "nbconvert_exporter": "python",
   "pygments_lexer": "ipython3",
   "version": "3.7.4"
  }
 },
 "nbformat": 4,
 "nbformat_minor": 2
}
